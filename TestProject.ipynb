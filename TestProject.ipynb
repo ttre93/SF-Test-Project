{
 "cells": [
  {
   "attachments": {},
   "cell_type": "markdown",
   "metadata": {
    "cell_content_type": "markdown_default",
    "changed": false,
    "deletable": false,
    "editable": false,
    "original-content": "# Testprojekt: Verkehrsaufkommen (Lösung)\nModul 3 | Kapitel 3 | Notebook 1\n\nDu hast in den letzten Kapiteln und Modulen zahlreiche Methoden kennengelernt. In dieser Übung erhältst du die Gelegenheit, sie selbstständig anzuwenden. Dazu erhältst du ein Datenset, welches einen Teil des Taxiverkehrs der Stadt Quito in Ecuador beinhaltet.\n\n***\nAm Ende der Übung hast du:\n* Daten eingelesen und bereinigt,\n* Feature Engineering betrieben,\n* ein Modell an die Daten angepasst,\n* die einzelnen Schritte zu einer Datenpipeline kombiniert\n***",
    "selectable": false,
    "tags": []
   },
   "source": [
    "# Test Project: Traffic Volume"
   ]
  },
  {
   "attachments": {},
   "cell_type": "markdown",
   "metadata": {
    "cell_content_type": "markdown_selectable",
    "changed": false,
    "deletable": false,
    "editable": true,
    "messageType": "szenario",
    "original-content": "\n**Szenario:** Du arbeitest als Data Scientist für eine Taxi-App, die unter anderem in Ecuador tätig ist. Dort ist das Unternehmen vor allem in der Hauptstadt Quito vertreten. Um die Benutzerfreundlichkeit zu erhöhen, soll die Dauer, wie lange Passagiere voraussichtlich im Verkehr stecken werden, genauer modelliert werden. Dazu hat dein Unternehmen nachverfolgt, wie lange das Fahrzeug bei jeder Fahrt komplett stehen bleibt. Das ist die im Voraus zu berechnende Variable. \n\nWenn die Passagiere vorher wissen, wie lange sie im Verkehr stecken, können sie sich besser auf potentiell lange Fahrtdauern einstellen und erleben die Fahrt positiver. Da die Kosten vor allem nach Strecke und weniger nach Fahrtdauer berechnet werden, sind diese Fahrten außerdem nicht so lukrativ, wie Fahrten, die das Taxi vielleicht ansonsten durchführen könnte.\n\nFolgende Hintergrundinformationen zu Quito könnten bei der Aufgabe hilfreich sein:\n\n* [Hier](https://www.openstreetmap.org/#map=12/-0.2472/-78.5049) kannst du dir einen Überblick über die Stadt verschaffen.\n* Da es besonders um den Verkehr innerhalb der Stadt und Randbezirke inkl. Flughafen geht, kannst du davon ausgehen, dass nur die Daten innerhalb der folgenden Koordinaten für die Vorhersage relevant sind:\n    * Maximaler und minimaler Breitengrad: `[-0.4,0.05]`\n    * Maximaler und minimaler Längengrad: `[-78.6,-78.3]`\n* In Ecuador herrscht von Oktober bis Mai die Regenzeit und von Juni bis September die Trockenzeit.\n* Die Geschwindigkeitsbegrenzung liegt in der Stadt bei 50 km/h und in Richtung Flughafen bei 70 km/h.",
    "selectable": true
   },
   "source": [
    "\n",
    "**Scenario:** I work as a Data Scientist for a cab app that operates in Ecuador. There, the company is mainly present in the capital Quito. To improve the user experience, the goal is to more accurately model how long passengers are likely to be stuck in traffic. To do this, your company has tracked how long the vehicle will be completely stuck for each trip. That's the variable to be calculated in advance. \n",
    "\n",
    "When passengers know in advance how long they will be stuck in traffic, they are better able to adjust to potentially long trip durations and experience the trip more positively. In addition, because the cost is calculated primarily by distance rather than by trip duration, these trips are not as lucrative as trips the cab might otherwise make.\n",
    "\n",
    "The following background information about Quito might be helpful for the task:\n",
    "\n",
    "* Since it is especially about the traffic within the city and the outskirts incl. the airport, we can assume that only the data within the following coordinates are relevant for the prediction:\n",
    "    * Maximum and minimum latitude: `[-0.4,0.05]`\n",
    "    * Maximum and minimum longitude: `[-78.6,-78.3]`\n",
    "* Ecuador has the rainy season from October to May and the dry season from June to September.\n",
    "* The speed limit is 50 km/h in the city and 70 km/h in the direction of the airport.\n",
    "\n",
    "The goal is basically to calculate, how long will the cab spend in traffic based on daytime, location, etc."
   ]
  },
  {
   "attachments": {},
   "cell_type": "markdown",
   "metadata": {
    "cell_content_type": "markdown_selectable",
    "changed": false,
    "deletable": false,
    "editable": true,
    "original-content": "Jede Zeile des Datensets entspricht einer Taxifahrt in Quito, Ecuador. Das Datenwörterbuch sieht wie folgt aus:\n\nSpaltennummer | Spaltenname             | Datenniveau                   | Beschreibung\n ------------ | :---------:             | :---------:                   | ------------:\n0             | `'id'`                  | kategorisch  (`int`)          | Eine eindeutige Identifikationsnummer für jede Zeile\n1             | `'vendor_id'`           | kategorisch (`string`)        | Name des gebuchten Taxiunternehmens\n2             | `'pickup_datetime'`     | kontinuierlich (`datetime`)   | Datum und Uhrzeit des Fahrtbeginns\n3             | `'pickup_longitude'`    | kontinuierlich (`float`)      | Längengrad, bei dem die Fahrt begonnen hat\n4             | `'pickup_latitude'`     | kontinuierlich (`float`)      | Breitengrad, bei dem die Fahrt begonnen hat\n5             | `'dropoff_longitude'`   | kontinuierlich (`float`)      | Längengrad des Zielorts\n6             | `'dropoff_latitude'`    | kontinuierlich (`float`)      | Breitengrad des Zielorts\n7             | `'store_and_fwd_flag'`  | kategorisch                   | Gibt an, ob Daten überlängere Zeit zwischengespeichert wurden (`Y`) oder direkt an den Server gingen (`N`)\n8             | `'trip_estimated'`      | kontinuierlich (`int`)        | Geschätze Fahrtdauer ohne Berücksichtigung des Verkehrs (Sekunden)\n9            | `'distance_m'`          | kontinuierlich(`float`)        | Distanz zwischen Abhol- und Ankunftsort\n10            | `'wait_sec'`            | kontinuierlich (`int`)        | Dauer, die Passagiere im Verkehr stecken geblieben sind (Sekunden). Dabei hat das Fahrzeug komplett gestanden.",
    "selectable": true
   },
   "source": [
    "Each row of the dataset corresponds to a cab ride in Quito, Ecuador. The data looks like this:\n",
    "\n",
    "Column number | Column name | Data type | Description\n",
    " ------------ | :---------:             | :---------:                   | ------------:\n",
    "0             | `'id'`                  | categorical  (`int`)          | A unique identification number for each line\n",
    "1             | `'vendor_id'`           | categorical (`string`)        | Name of the booked cab company\n",
    "2             | `'pickup_datetime'`     | continuous (`datetime`)   | Date and time of the start of the journey\n",
    "3             | `'pickup_longitude'`    | continuous (`float`)      | Longitude at which the journey started\n",
    "4             | `'pickup_latitude'`     | continuous (`float`)      | Latitude at which the journey started\n",
    "5             | `'dropoff_longitude'`   | continuous (`float`)      | Longitude of the destination\n",
    "6             | `'dropoff_latitude'`    | continuous (`float`)      | Latitude of the destination\n",
    "7             | `'store_and_fwd_flag'`  | categorical                   | Indicates whether data was cached for a longer time (`Y`) or went directly to the server (`N`)\n",
    "8             | `'trip_estimated'`      | continuous (`int`)        | Estimated travel time without taking traffic into account (seconds)\n",
    "9            | `'distance_m'`          | continuous(`float`)        | Distance between pickup and arrival point\n",
    "10            | `'wait_sec'`            | continuous (`int`)        | Duration, the passengers are stuck in traffic (seconds). During this time, the vehicle was completely stationary."
   ]
  },
  {
   "attachments": {},
   "cell_type": "markdown",
   "metadata": {
    "cell_content_type": "markdown_selectable",
    "changed": false,
    "deletable": false,
    "editable": true,
    "original-content": "Die Zielsetzung dieses Projektes ist es, ein Modell zu entwickeln, welches `wait_sec` möglichst gut vorhersagt. Mit welcher Metrik kannst du später die Güte deines Modells evaluieren?",
    "selectable": true
   },
   "source": [
    "The objective of this project is to develop a model that predicts `wait_sec` as well as possible."
   ]
  },
  {
   "cell_type": "code",
   "execution_count": 314,
   "metadata": {},
   "outputs": [],
   "source": [
    "import pandas as pd\n",
    "import seaborn as sns\n",
    "import matplotlib.pyplot as plt\n",
    "from IPython.display import display\n",
    "import numpy as np\n",
    "from sklearn.model_selection import train_test_split, cross_val_score, GridSearchCV\n",
    "from sklearn.pipeline import Pipeline\n",
    "from sklearn.preprocessing import StandardScaler, OneHotEncoder\n",
    "from sklearn.compose import ColumnTransformer\n",
    "from sklearn.linear_model import Ridge, Lasso, LinearRegression\n",
    "from sklearn.preprocessing import StandardScaler\n",
    "from sklearn.metrics import mean_absolute_error, mean_squared_error, r2_score\n",
    "from sklearn.decomposition import PCA\n",
    "from datetime import datetime\n",
    "from math import radians, sin, cos, sqrt, atan2\n",
    "import pickle"
   ]
  },
  {
   "attachments": {},
   "cell_type": "markdown",
   "metadata": {
    "cell_content_type": "markdown_default",
    "changed": false,
    "deletable": false,
    "editable": false,
    "original-content": "## Preparation\n",
    "selectable": false
   },
   "source": [
    "## EDA - Exploratory data analysis\n"
   ]
  },
  {
   "cell_type": "code",
   "execution_count": 3,
   "metadata": {
    "cell_content_type": "code_user",
    "changed": false,
    "deletable": false,
    "editable": true,
    "hint": "Wenn du willst, kannst du diese Codezelle gern im Forum unter *Testprojekt: Verkehrsaufkommen* diskutieren.",
    "hint_counter": 0,
    "original-content": "",
    "selectable": true,
    "tags": []
   },
   "outputs": [
    {
     "data": {
      "text/html": [
       "<div>\n",
       "<style scoped>\n",
       "    .dataframe tbody tr th:only-of-type {\n",
       "        vertical-align: middle;\n",
       "    }\n",
       "\n",
       "    .dataframe tbody tr th {\n",
       "        vertical-align: top;\n",
       "    }\n",
       "\n",
       "    .dataframe thead th {\n",
       "        text-align: right;\n",
       "    }\n",
       "</style>\n",
       "<table border=\"1\" class=\"dataframe\">\n",
       "  <thead>\n",
       "    <tr style=\"text-align: right;\">\n",
       "      <th></th>\n",
       "      <th>vendor_id</th>\n",
       "      <th>pickup_datetime</th>\n",
       "      <th>pickup_longitude</th>\n",
       "      <th>pickup_latitude</th>\n",
       "      <th>dropoff_longitude</th>\n",
       "      <th>dropoff_latitude</th>\n",
       "      <th>store_and_fwd_flag</th>\n",
       "      <th>trip_estimated</th>\n",
       "      <th>distance_m</th>\n",
       "      <th>wait_sec</th>\n",
       "    </tr>\n",
       "    <tr>\n",
       "      <th>id</th>\n",
       "      <th></th>\n",
       "      <th></th>\n",
       "      <th></th>\n",
       "      <th></th>\n",
       "      <th></th>\n",
       "      <th></th>\n",
       "      <th></th>\n",
       "      <th></th>\n",
       "      <th></th>\n",
       "      <th></th>\n",
       "    </tr>\n",
       "  </thead>\n",
       "  <tbody>\n",
       "    <tr>\n",
       "      <th>0</th>\n",
       "      <td>Quito</td>\n",
       "      <td>2016-08-25 12:40:00</td>\n",
       "      <td>-78.411326</td>\n",
       "      <td>-0.309814</td>\n",
       "      <td>-78.455283</td>\n",
       "      <td>-0.287551</td>\n",
       "      <td>N</td>\n",
       "      <td>678</td>\n",
       "      <td>7363.299869</td>\n",
       "      <td>38</td>\n",
       "    </tr>\n",
       "    <tr>\n",
       "      <th>1</th>\n",
       "      <td>Quito</td>\n",
       "      <td>2016-12-17 05:29:50</td>\n",
       "      <td>-78.512510</td>\n",
       "      <td>-0.221165</td>\n",
       "      <td>-78.478725</td>\n",
       "      <td>-0.196938</td>\n",
       "      <td>N</td>\n",
       "      <td>750</td>\n",
       "      <td>6450.734909</td>\n",
       "      <td>210</td>\n",
       "    </tr>\n",
       "    <tr>\n",
       "      <th>2</th>\n",
       "      <td>Quito</td>\n",
       "      <td>2017-03-16 05:36:36</td>\n",
       "      <td>-78.467560</td>\n",
       "      <td>-0.163823</td>\n",
       "      <td>-78.483523</td>\n",
       "      <td>-0.094844</td>\n",
       "      <td>N</td>\n",
       "      <td>1274</td>\n",
       "      <td>9445.014567</td>\n",
       "      <td>666</td>\n",
       "    </tr>\n",
       "    <tr>\n",
       "      <th>3</th>\n",
       "      <td>Quito</td>\n",
       "      <td>2016-10-20 09:25:57</td>\n",
       "      <td>-78.472038</td>\n",
       "      <td>-0.139989</td>\n",
       "      <td>-78.494747</td>\n",
       "      <td>-0.169194</td>\n",
       "      <td>N</td>\n",
       "      <td>615</td>\n",
       "      <td>5772.514970</td>\n",
       "      <td>312</td>\n",
       "    </tr>\n",
       "    <tr>\n",
       "      <th>4</th>\n",
       "      <td>Quito</td>\n",
       "      <td>2016-12-01 12:58:06</td>\n",
       "      <td>-78.493910</td>\n",
       "      <td>-0.176009</td>\n",
       "      <td>-78.504876</td>\n",
       "      <td>-0.180504</td>\n",
       "      <td>N</td>\n",
       "      <td>308</td>\n",
       "      <td>1719.218262</td>\n",
       "      <td>70</td>\n",
       "    </tr>\n",
       "  </tbody>\n",
       "</table>\n",
       "</div>"
      ],
      "text/plain": [
       "   vendor_id     pickup_datetime  pickup_longitude  pickup_latitude  \\\n",
       "id                                                                    \n",
       "0      Quito 2016-08-25 12:40:00        -78.411326        -0.309814   \n",
       "1      Quito 2016-12-17 05:29:50        -78.512510        -0.221165   \n",
       "2      Quito 2017-03-16 05:36:36        -78.467560        -0.163823   \n",
       "3      Quito 2016-10-20 09:25:57        -78.472038        -0.139989   \n",
       "4      Quito 2016-12-01 12:58:06        -78.493910        -0.176009   \n",
       "\n",
       "    dropoff_longitude  dropoff_latitude store_and_fwd_flag  trip_estimated  \\\n",
       "id                                                                           \n",
       "0          -78.455283         -0.287551                  N             678   \n",
       "1          -78.478725         -0.196938                  N             750   \n",
       "2          -78.483523         -0.094844                  N            1274   \n",
       "3          -78.494747         -0.169194                  N             615   \n",
       "4          -78.504876         -0.180504                  N             308   \n",
       "\n",
       "     distance_m  wait_sec  \n",
       "id                         \n",
       "0   7363.299869        38  \n",
       "1   6450.734909       210  \n",
       "2   9445.014567       666  \n",
       "3   5772.514970       312  \n",
       "4   1719.218262        70  "
      ]
     },
     "execution_count": 3,
     "metadata": {},
     "output_type": "execute_result"
    }
   ],
   "source": [
    "# load data\n",
    "df_train = pd.read_csv(\"data_train.csv\", \n",
    "                       parse_dates = [\"pickup_datetime\"], \n",
    "                       dtype={\"store_and_fwd_flag\": \"category\"})\n",
    "\n",
    "# check for duplicated IDs\n",
    "if df_train[\"id\"].nunique() == len(df_train):\n",
    "    df_train = df_train.set_index(\"id\")\n",
    "else:\n",
    "    print(\"DataFrame contains duplicated IDs\")\n",
    "    print(\"Manual control needed\")\n",
    "\n",
    "df_train.head()"
   ]
  },
  {
   "cell_type": "code",
   "execution_count": 4,
   "metadata": {
    "cell_content_type": "code_user",
    "changed": false,
    "deletable": false,
    "editable": true,
    "hint": "Typische Module, die zu Beginn brauchen kannst sind `pandas`, `numpy`, `matplotlib.pyplot`, `seaborn`. Diese könntest du in dieser Zelle importieren.",
    "hint_counter": 1,
    "original-content": "",
    "selectable": true,
    "tags": []
   },
   "outputs": [
    {
     "name": "stdout",
     "output_type": "stream",
     "text": [
      "<class 'pandas.core.frame.DataFrame'>\n",
      "Int64Index: 15657 entries, 0 to 15656\n",
      "Data columns (total 10 columns):\n",
      " #   Column              Non-Null Count  Dtype         \n",
      "---  ------              --------------  -----         \n",
      " 0   vendor_id           15657 non-null  object        \n",
      " 1   pickup_datetime     15657 non-null  datetime64[ns]\n",
      " 2   pickup_longitude    15657 non-null  float64       \n",
      " 3   pickup_latitude     15657 non-null  float64       \n",
      " 4   dropoff_longitude   15657 non-null  float64       \n",
      " 5   dropoff_latitude    15657 non-null  float64       \n",
      " 6   store_and_fwd_flag  15657 non-null  category      \n",
      " 7   trip_estimated      15657 non-null  int64         \n",
      " 8   distance_m          15657 non-null  float64       \n",
      " 9   wait_sec            15657 non-null  int64         \n",
      "dtypes: category(1), datetime64[ns](1), float64(5), int64(2), object(1)\n",
      "memory usage: 1.2+ MB\n"
     ]
    },
    {
     "data": {
      "text/plain": [
       "None"
      ]
     },
     "metadata": {},
     "output_type": "display_data"
    },
    {
     "data": {
      "text/plain": [
       "vendor_id             0\n",
       "pickup_datetime       0\n",
       "pickup_longitude      0\n",
       "pickup_latitude       0\n",
       "dropoff_longitude     0\n",
       "dropoff_latitude      0\n",
       "store_and_fwd_flag    0\n",
       "trip_estimated        0\n",
       "distance_m            0\n",
       "wait_sec              0\n",
       "dtype: int64"
      ]
     },
     "metadata": {},
     "output_type": "display_data"
    },
    {
     "data": {
      "text/html": [
       "<div>\n",
       "<style scoped>\n",
       "    .dataframe tbody tr th:only-of-type {\n",
       "        vertical-align: middle;\n",
       "    }\n",
       "\n",
       "    .dataframe tbody tr th {\n",
       "        vertical-align: top;\n",
       "    }\n",
       "\n",
       "    .dataframe thead th {\n",
       "        text-align: right;\n",
       "    }\n",
       "</style>\n",
       "<table border=\"1\" class=\"dataframe\">\n",
       "  <thead>\n",
       "    <tr style=\"text-align: right;\">\n",
       "      <th></th>\n",
       "      <th>pickup_longitude</th>\n",
       "      <th>pickup_latitude</th>\n",
       "      <th>dropoff_longitude</th>\n",
       "      <th>dropoff_latitude</th>\n",
       "      <th>trip_estimated</th>\n",
       "      <th>distance_m</th>\n",
       "      <th>wait_sec</th>\n",
       "    </tr>\n",
       "  </thead>\n",
       "  <tbody>\n",
       "    <tr>\n",
       "      <th>count</th>\n",
       "      <td>15657.00</td>\n",
       "      <td>15657.00</td>\n",
       "      <td>15657.00</td>\n",
       "      <td>15657.00</td>\n",
       "      <td>15657.00</td>\n",
       "      <td>15657.00</td>\n",
       "      <td>15657.00</td>\n",
       "    </tr>\n",
       "    <tr>\n",
       "      <th>mean</th>\n",
       "      <td>-78.49</td>\n",
       "      <td>-0.19</td>\n",
       "      <td>-78.49</td>\n",
       "      <td>-0.19</td>\n",
       "      <td>1073.20</td>\n",
       "      <td>5447.24</td>\n",
       "      <td>304.48</td>\n",
       "    </tr>\n",
       "    <tr>\n",
       "      <th>std</th>\n",
       "      <td>0.03</td>\n",
       "      <td>0.06</td>\n",
       "      <td>0.03</td>\n",
       "      <td>0.06</td>\n",
       "      <td>24093.60</td>\n",
       "      <td>4777.75</td>\n",
       "      <td>284.18</td>\n",
       "    </tr>\n",
       "    <tr>\n",
       "      <th>min</th>\n",
       "      <td>-79.91</td>\n",
       "      <td>-2.11</td>\n",
       "      <td>-79.89</td>\n",
       "      <td>-2.16</td>\n",
       "      <td>-1844.00</td>\n",
       "      <td>8.00</td>\n",
       "      <td>0.00</td>\n",
       "    </tr>\n",
       "    <tr>\n",
       "      <th>25%</th>\n",
       "      <td>-78.51</td>\n",
       "      <td>-0.21</td>\n",
       "      <td>-78.50</td>\n",
       "      <td>-0.22</td>\n",
       "      <td>313.00</td>\n",
       "      <td>2442.10</td>\n",
       "      <td>108.00</td>\n",
       "    </tr>\n",
       "    <tr>\n",
       "      <th>50%</th>\n",
       "      <td>-78.49</td>\n",
       "      <td>-0.18</td>\n",
       "      <td>-78.49</td>\n",
       "      <td>-0.18</td>\n",
       "      <td>514.00</td>\n",
       "      <td>4128.48</td>\n",
       "      <td>222.00</td>\n",
       "    </tr>\n",
       "    <tr>\n",
       "      <th>75%</th>\n",
       "      <td>-78.47</td>\n",
       "      <td>-0.15</td>\n",
       "      <td>-78.48</td>\n",
       "      <td>-0.15</td>\n",
       "      <td>828.00</td>\n",
       "      <td>6886.89</td>\n",
       "      <td>404.00</td>\n",
       "    </tr>\n",
       "    <tr>\n",
       "      <th>max</th>\n",
       "      <td>-78.17</td>\n",
       "      <td>0.34</td>\n",
       "      <td>-78.13</td>\n",
       "      <td>0.35</td>\n",
       "      <td>1980260.00</td>\n",
       "      <td>92322.76</td>\n",
       "      <td>1929.00</td>\n",
       "    </tr>\n",
       "  </tbody>\n",
       "</table>\n",
       "</div>"
      ],
      "text/plain": [
       "       pickup_longitude  pickup_latitude  dropoff_longitude  dropoff_latitude  \\\n",
       "count          15657.00         15657.00           15657.00          15657.00   \n",
       "mean             -78.49            -0.19             -78.49             -0.19   \n",
       "std                0.03             0.06               0.03              0.06   \n",
       "min              -79.91            -2.11             -79.89             -2.16   \n",
       "25%              -78.51            -0.21             -78.50             -0.22   \n",
       "50%              -78.49            -0.18             -78.49             -0.18   \n",
       "75%              -78.47            -0.15             -78.48             -0.15   \n",
       "max              -78.17             0.34             -78.13              0.35   \n",
       "\n",
       "       trip_estimated  distance_m  wait_sec  \n",
       "count        15657.00    15657.00  15657.00  \n",
       "mean          1073.20     5447.24    304.48  \n",
       "std          24093.60     4777.75    284.18  \n",
       "min          -1844.00        8.00      0.00  \n",
       "25%            313.00     2442.10    108.00  \n",
       "50%            514.00     4128.48    222.00  \n",
       "75%            828.00     6886.89    404.00  \n",
       "max        1980260.00    92322.76   1929.00  "
      ]
     },
     "metadata": {},
     "output_type": "display_data"
    }
   ],
   "source": [
    "pd.set_option(\"display.float_format\", \"{:.2f}\".format)\n",
    "display(df_train.info(), \n",
    "        df_train.isna().sum(),\n",
    "        df_train.describe())"
   ]
  },
  {
   "cell_type": "code",
   "execution_count": 5,
   "metadata": {},
   "outputs": [],
   "source": [
    "# no NaNs, correct dtypes\n",
    "# latitude / longitude values outside the city\n",
    "# trip estimated - negative min and too big max val (550 hours...)\n",
    "# check min / max distance"
   ]
  },
  {
   "cell_type": "code",
   "execution_count": 6,
   "metadata": {
    "cell_content_type": "code_user",
    "changed": false,
    "deletable": false,
    "editable": true,
    "hint": "Wenn du willst, kannst du diese Codezelle gern im Forum unter *Testprojekt: Verkehrsaufkommen* diskutieren.",
    "hint_counter": 1,
    "original-content": "",
    "selectable": true,
    "tags": []
   },
   "outputs": [
    {
     "data": {
      "text/plain": [
       "[<matplotlib.lines.Line2D at 0x7f6d6ca1c6d0>]"
      ]
     },
     "execution_count": 6,
     "metadata": {},
     "output_type": "execute_result"
    },
    {
     "data": {
      "image/png": "[encoded data removed]",
      "text/plain": [
       "<Figure size 432x432 with 1 Axes>"
      ]
     },
     "metadata": {
      "needs_background": "light"
     },
     "output_type": "display_data"
    }
   ],
   "source": [
    "MAX_LAT = 0.05\n",
    "MIN_LAT = -0.4\n",
    "MAX_LON = -78.3\n",
    "MIN_LON = -78.6\n",
    "\n",
    "fig, ax = plt.subplots(nrows = 1, ncols = 1, figsize = (6,6))\n",
    "sns.scatterplot(data = df_train, x = \"dropoff_longitude\", y = \"dropoff_latitude\", alpha = 0.5, ax = ax)\n",
    "sns.scatterplot(data = df_train, x = \"pickup_longitude\", y = \"pickup_latitude\", alpha = 0.5, ax = ax)\n",
    "ax.plot([MIN_LON, MIN_LON], [MIN_LAT, MAX_LAT], color='red', linewidth=2)\n",
    "ax.plot([MAX_LON, MAX_LON], [MIN_LAT, MAX_LAT], color='red', linewidth=2)\n",
    "ax.plot([MIN_LON, MAX_LON], [MIN_LAT, MIN_LAT], color='red', linewidth=2)\n",
    "ax.plot([MAX_LON, MIN_LON], [MAX_LAT, MAX_LAT], color='red', linewidth=2)\n",
    "\n",
    "# Only traffic in the city and around airport is to be considered "
   ]
  },
  {
   "cell_type": "code",
   "execution_count": 7,
   "metadata": {
    "cell_content_type": "code_user",
    "changed": false,
    "deletable": false,
    "editable": true,
    "hint": "Wenn du willst, kannst du diese Codezelle gern im Forum unter *Testprojekt: Verkehrsaufkommen* diskutieren.",
    "original-content": "",
    "selectable": true
   },
   "outputs": [
    {
     "name": "stdout",
     "output_type": "stream",
     "text": [
      "15631 out of 15657 rides takes place in the city\n"
     ]
    }
   ],
   "source": [
    "# remove the rides outside the city\n",
    "mask_city = ((df_train['pickup_longitude'] < MAX_LON) & \n",
    "             (df_train['pickup_longitude'] > MIN_LON) &\n",
    "             (df_train['dropoff_longitude'] < MAX_LON) & \n",
    "             (df_train['dropoff_longitude'] > MIN_LON) &\n",
    "             (df_train['pickup_latitude'] < MAX_LAT) & \n",
    "             (df_train['pickup_latitude'] > MIN_LAT) &\n",
    "             (df_train['dropoff_latitude'] < MAX_LAT) & \n",
    "             (df_train['dropoff_latitude'] > MIN_LAT))\n",
    "\n",
    "print(f\"{mask_city.sum()} out of {len(df_train)} rides takes place in the city\")\n",
    "\n",
    "df_train = df_train[mask_city]"
   ]
  },
  {
   "cell_type": "code",
   "execution_count": 8,
   "metadata": {
    "cell_content_type": "code_user",
    "changed": false,
    "deletable": false,
    "editable": true,
    "hint": "Wenn du willst, kannst du diese Codezelle gern im Forum unter *Testprojekt: Verkehrsaufkommen* diskutieren.",
    "original-content": "",
    "selectable": true
   },
   "outputs": [
    {
     "name": "stdout",
     "output_type": "stream",
     "text": [
      "N    15631\n",
      "Name: store_and_fwd_flag, dtype: int64\n"
     ]
    }
   ],
   "source": [
    "# store_and_fwd_flag column\n",
    "print(df_train[\"store_and_fwd_flag\"].value_counts())\n",
    "# the way the data is stored doesnt affect the prediction"
   ]
  },
  {
   "cell_type": "code",
   "execution_count": 9,
   "metadata": {
    "cell_content_type": "code_user",
    "changed": false,
    "deletable": false,
    "editable": true,
    "hint": "Wenn du willst, kannst du diese Codezelle gern im Forum unter *Testprojekt: Verkehrsaufkommen* diskutieren.",
    "hint_counter": 1,
    "original-content": "",
    "selectable": true,
    "tags": []
   },
   "outputs": [
    {
     "name": "stdout",
     "output_type": "stream",
     "text": [
      "Quito                     15443\n",
      "Quito Cabify Lite           159\n",
      "Quito Cabify Executive       29\n",
      "Name: vendor_id, dtype: int64\n"
     ]
    },
    {
     "data": {
      "text/plain": [
       "None"
      ]
     },
     "metadata": {},
     "output_type": "display_data"
    },
    {
     "data": {
      "text/html": [
       "<div>\n",
       "<style scoped>\n",
       "    .dataframe tbody tr th:only-of-type {\n",
       "        vertical-align: middle;\n",
       "    }\n",
       "\n",
       "    .dataframe tbody tr th {\n",
       "        vertical-align: top;\n",
       "    }\n",
       "\n",
       "    .dataframe thead th {\n",
       "        text-align: right;\n",
       "    }\n",
       "</style>\n",
       "<table border=\"1\" class=\"dataframe\">\n",
       "  <thead>\n",
       "    <tr style=\"text-align: right;\">\n",
       "      <th></th>\n",
       "      <th>pickup_longitude</th>\n",
       "      <th>pickup_latitude</th>\n",
       "      <th>dropoff_longitude</th>\n",
       "      <th>dropoff_latitude</th>\n",
       "      <th>trip_estimated</th>\n",
       "      <th>distance_m</th>\n",
       "      <th>wait_sec</th>\n",
       "    </tr>\n",
       "    <tr>\n",
       "      <th>vendor_id</th>\n",
       "      <th></th>\n",
       "      <th></th>\n",
       "      <th></th>\n",
       "      <th></th>\n",
       "      <th></th>\n",
       "      <th></th>\n",
       "      <th></th>\n",
       "    </tr>\n",
       "  </thead>\n",
       "  <tbody>\n",
       "    <tr>\n",
       "      <th>Quito</th>\n",
       "      <td>-78.49</td>\n",
       "      <td>-0.19</td>\n",
       "      <td>-78.49</td>\n",
       "      <td>-0.19</td>\n",
       "      <td>925.97</td>\n",
       "      <td>5415.81</td>\n",
       "      <td>305.20</td>\n",
       "    </tr>\n",
       "    <tr>\n",
       "      <th>Quito Cabify Executive</th>\n",
       "      <td>-78.49</td>\n",
       "      <td>-0.18</td>\n",
       "      <td>-78.49</td>\n",
       "      <td>-0.18</td>\n",
       "      <td>64340.55</td>\n",
       "      <td>4162.24</td>\n",
       "      <td>247.34</td>\n",
       "    </tr>\n",
       "    <tr>\n",
       "      <th>Quito Cabify Lite</th>\n",
       "      <td>-78.49</td>\n",
       "      <td>-0.18</td>\n",
       "      <td>-78.49</td>\n",
       "      <td>-0.18</td>\n",
       "      <td>3670.18</td>\n",
       "      <td>5805.22</td>\n",
       "      <td>246.40</td>\n",
       "    </tr>\n",
       "  </tbody>\n",
       "</table>\n",
       "</div>"
      ],
      "text/plain": [
       "                        pickup_longitude  pickup_latitude  dropoff_longitude  \\\n",
       "vendor_id                                                                      \n",
       "Quito                             -78.49            -0.19             -78.49   \n",
       "Quito Cabify Executive            -78.49            -0.18             -78.49   \n",
       "Quito Cabify Lite                 -78.49            -0.18             -78.49   \n",
       "\n",
       "                        dropoff_latitude  trip_estimated  distance_m  wait_sec  \n",
       "vendor_id                                                                       \n",
       "Quito                              -0.19          925.97     5415.81    305.20  \n",
       "Quito Cabify Executive             -0.18        64340.55     4162.24    247.34  \n",
       "Quito Cabify Lite                  -0.18         3670.18     5805.22    246.40  "
      ]
     },
     "metadata": {},
     "output_type": "display_data"
    },
    {
     "data": {
      "text/html": [
       "<div>\n",
       "<style scoped>\n",
       "    .dataframe tbody tr th:only-of-type {\n",
       "        vertical-align: middle;\n",
       "    }\n",
       "\n",
       "    .dataframe tbody tr th {\n",
       "        vertical-align: top;\n",
       "    }\n",
       "\n",
       "    .dataframe thead th {\n",
       "        text-align: right;\n",
       "    }\n",
       "</style>\n",
       "<table border=\"1\" class=\"dataframe\">\n",
       "  <thead>\n",
       "    <tr style=\"text-align: right;\">\n",
       "      <th></th>\n",
       "      <th>pickup_longitude</th>\n",
       "      <th>pickup_latitude</th>\n",
       "      <th>dropoff_longitude</th>\n",
       "      <th>dropoff_latitude</th>\n",
       "      <th>trip_estimated</th>\n",
       "      <th>distance_m</th>\n",
       "      <th>wait_sec</th>\n",
       "    </tr>\n",
       "    <tr>\n",
       "      <th>vendor_id</th>\n",
       "      <th></th>\n",
       "      <th></th>\n",
       "      <th></th>\n",
       "      <th></th>\n",
       "      <th></th>\n",
       "      <th></th>\n",
       "      <th></th>\n",
       "    </tr>\n",
       "  </thead>\n",
       "  <tbody>\n",
       "    <tr>\n",
       "      <th>Quito</th>\n",
       "      <td>-78.49</td>\n",
       "      <td>-0.18</td>\n",
       "      <td>-78.49</td>\n",
       "      <td>-0.18</td>\n",
       "      <td>514</td>\n",
       "      <td>4121.07</td>\n",
       "      <td>224</td>\n",
       "    </tr>\n",
       "    <tr>\n",
       "      <th>Quito Cabify Executive</th>\n",
       "      <td>-78.48</td>\n",
       "      <td>-0.18</td>\n",
       "      <td>-78.49</td>\n",
       "      <td>-0.18</td>\n",
       "      <td>438</td>\n",
       "      <td>3201.73</td>\n",
       "      <td>115</td>\n",
       "    </tr>\n",
       "    <tr>\n",
       "      <th>Quito Cabify Lite</th>\n",
       "      <td>-78.49</td>\n",
       "      <td>-0.19</td>\n",
       "      <td>-78.49</td>\n",
       "      <td>-0.18</td>\n",
       "      <td>525</td>\n",
       "      <td>4183.26</td>\n",
       "      <td>149</td>\n",
       "    </tr>\n",
       "  </tbody>\n",
       "</table>\n",
       "</div>"
      ],
      "text/plain": [
       "                        pickup_longitude  pickup_latitude  dropoff_longitude  \\\n",
       "vendor_id                                                                      \n",
       "Quito                             -78.49            -0.18             -78.49   \n",
       "Quito Cabify Executive            -78.48            -0.18             -78.49   \n",
       "Quito Cabify Lite                 -78.49            -0.19             -78.49   \n",
       "\n",
       "                        dropoff_latitude  trip_estimated  distance_m  wait_sec  \n",
       "vendor_id                                                                       \n",
       "Quito                              -0.18             514     4121.07       224  \n",
       "Quito Cabify Executive             -0.18             438     3201.73       115  \n",
       "Quito Cabify Lite                  -0.18             525     4183.26       149  "
      ]
     },
     "metadata": {},
     "output_type": "display_data"
    }
   ],
   "source": [
    "# check vendor_id column\n",
    "display(print(df_train[\"vendor_id\"].value_counts()),\n",
    "        df_train.groupby(\"vendor_id\").mean(),\n",
    "        df_train.groupby(\"vendor_id\").median())\n",
    "\n",
    "# medians of all three vendors similar, means strongly influenced by outliers"
   ]
  },
  {
   "cell_type": "code",
   "execution_count": 10,
   "metadata": {},
   "outputs": [
    {
     "data": {
      "text/plain": [
       "<AxesSubplot:>"
      ]
     },
     "execution_count": 10,
     "metadata": {},
     "output_type": "execute_result"
    },
    {
     "data": {
      "image/png": "[encoded data removed]",
      "text/plain": [
       "<Figure size 432x288 with 1 Axes>"
      ]
     },
     "metadata": {
      "needs_background": "light"
     },
     "output_type": "display_data"
    }
   ],
   "source": [
    "# distance_m column\n",
    "df_train[\"distance_m\"].hist(bins = 100, log = True)\n",
    "\n",
    "# distribution makes sense, many short and few long trips"
   ]
  },
  {
   "cell_type": "code",
   "execution_count": 11,
   "metadata": {
    "cell_content_type": "code_user",
    "changed": false,
    "deletable": false,
    "editable": true,
    "hint": "Wenn du willst, kannst du diese Codezelle gern im Forum unter *Testprojekt: Verkehrsaufkommen* diskutieren.",
    "original-content": "",
    "selectable": true
   },
   "outputs": [
    {
     "data": {
      "text/plain": [
       "<AxesSubplot:>"
      ]
     },
     "execution_count": 11,
     "metadata": {},
     "output_type": "execute_result"
    },
    {
     "data": {
      "image/png": "[encoded data removed]",
      "text/plain": [
       "<Figure size 432x288 with 1 Axes>"
      ]
     },
     "metadata": {
      "needs_background": "light"
     },
     "output_type": "display_data"
    }
   ],
   "source": [
    "# trip_estimated column\n",
    "df_train[\"trip_estimated\"].hist(log = True, bins = 100)\n",
    "\n",
    "# few nonsense outliers --- max value is 550 hours..."
   ]
  },
  {
   "cell_type": "code",
   "execution_count": 12,
   "metadata": {
    "cell_content_type": "code_user",
    "changed": false,
    "deletable": false,
    "editable": true,
    "hint": "Wenn du willst, kannst du diese Codezelle gern im Forum unter *Testprojekt: Verkehrsaufkommen* diskutieren.",
    "hint_counter": 0,
    "original-content": "",
    "selectable": true,
    "tags": []
   },
   "outputs": [
    {
     "data": {
      "text/html": [
       "<div>\n",
       "<style scoped>\n",
       "    .dataframe tbody tr th:only-of-type {\n",
       "        vertical-align: middle;\n",
       "    }\n",
       "\n",
       "    .dataframe tbody tr th {\n",
       "        vertical-align: top;\n",
       "    }\n",
       "\n",
       "    .dataframe thead th {\n",
       "        text-align: right;\n",
       "    }\n",
       "</style>\n",
       "<table border=\"1\" class=\"dataframe\">\n",
       "  <thead>\n",
       "    <tr style=\"text-align: right;\">\n",
       "      <th></th>\n",
       "      <th>vendor_id</th>\n",
       "      <th>pickup_datetime</th>\n",
       "      <th>pickup_longitude</th>\n",
       "      <th>pickup_latitude</th>\n",
       "      <th>dropoff_longitude</th>\n",
       "      <th>dropoff_latitude</th>\n",
       "      <th>store_and_fwd_flag</th>\n",
       "      <th>trip_estimated</th>\n",
       "      <th>distance_m</th>\n",
       "      <th>wait_sec</th>\n",
       "    </tr>\n",
       "    <tr>\n",
       "      <th>id</th>\n",
       "      <th></th>\n",
       "      <th></th>\n",
       "      <th></th>\n",
       "      <th></th>\n",
       "      <th></th>\n",
       "      <th></th>\n",
       "      <th></th>\n",
       "      <th></th>\n",
       "      <th></th>\n",
       "      <th></th>\n",
       "    </tr>\n",
       "  </thead>\n",
       "  <tbody>\n",
       "    <tr>\n",
       "      <th>205</th>\n",
       "      <td>Quito</td>\n",
       "      <td>2016-08-31 09:52:38</td>\n",
       "      <td>-78.50</td>\n",
       "      <td>-0.19</td>\n",
       "      <td>-78.48</td>\n",
       "      <td>-0.17</td>\n",
       "      <td>N</td>\n",
       "      <td>1980260</td>\n",
       "      <td>4688.66</td>\n",
       "      <td>815</td>\n",
       "    </tr>\n",
       "    <tr>\n",
       "      <th>289</th>\n",
       "      <td>Quito</td>\n",
       "      <td>2016-10-27 09:30:21</td>\n",
       "      <td>-78.38</td>\n",
       "      <td>-0.21</td>\n",
       "      <td>-78.39</td>\n",
       "      <td>-0.19</td>\n",
       "      <td>N</td>\n",
       "      <td>28907</td>\n",
       "      <td>3579.21</td>\n",
       "      <td>31</td>\n",
       "    </tr>\n",
       "    <tr>\n",
       "      <th>3691</th>\n",
       "      <td>Quito</td>\n",
       "      <td>2017-06-19 09:03:39</td>\n",
       "      <td>-78.49</td>\n",
       "      <td>-0.21</td>\n",
       "      <td>-78.49</td>\n",
       "      <td>-0.21</td>\n",
       "      <td>N</td>\n",
       "      <td>13594</td>\n",
       "      <td>91.13</td>\n",
       "      <td>2</td>\n",
       "    </tr>\n",
       "    <tr>\n",
       "      <th>3805</th>\n",
       "      <td>Quito Cabify Lite</td>\n",
       "      <td>2017-02-28 08:57:41</td>\n",
       "      <td>-78.47</td>\n",
       "      <td>-0.13</td>\n",
       "      <td>-78.54</td>\n",
       "      <td>-0.27</td>\n",
       "      <td>N</td>\n",
       "      <td>482022</td>\n",
       "      <td>22929.88</td>\n",
       "      <td>148</td>\n",
       "    </tr>\n",
       "    <tr>\n",
       "      <th>5320</th>\n",
       "      <td>Quito</td>\n",
       "      <td>2017-06-13 08:01:30</td>\n",
       "      <td>-78.56</td>\n",
       "      <td>-0.29</td>\n",
       "      <td>-78.56</td>\n",
       "      <td>-0.27</td>\n",
       "      <td>N</td>\n",
       "      <td>46308</td>\n",
       "      <td>2445.22</td>\n",
       "      <td>461</td>\n",
       "    </tr>\n",
       "    <tr>\n",
       "      <th>6727</th>\n",
       "      <td>Quito</td>\n",
       "      <td>2017-07-13 06:17:13</td>\n",
       "      <td>-78.51</td>\n",
       "      <td>-0.28</td>\n",
       "      <td>-78.50</td>\n",
       "      <td>-0.26</td>\n",
       "      <td>N</td>\n",
       "      <td>49786</td>\n",
       "      <td>3232.79</td>\n",
       "      <td>36</td>\n",
       "    </tr>\n",
       "    <tr>\n",
       "      <th>7257</th>\n",
       "      <td>Quito</td>\n",
       "      <td>2017-05-11 11:32:15</td>\n",
       "      <td>-78.48</td>\n",
       "      <td>-0.13</td>\n",
       "      <td>-78.48</td>\n",
       "      <td>-0.12</td>\n",
       "      <td>N</td>\n",
       "      <td>359723</td>\n",
       "      <td>264.42</td>\n",
       "      <td>0</td>\n",
       "    </tr>\n",
       "    <tr>\n",
       "      <th>7440</th>\n",
       "      <td>Quito</td>\n",
       "      <td>2017-05-12 07:09:05</td>\n",
       "      <td>-78.44</td>\n",
       "      <td>-0.09</td>\n",
       "      <td>-78.44</td>\n",
       "      <td>-0.09</td>\n",
       "      <td>N</td>\n",
       "      <td>69754</td>\n",
       "      <td>65.09</td>\n",
       "      <td>1346</td>\n",
       "    </tr>\n",
       "    <tr>\n",
       "      <th>9541</th>\n",
       "      <td>Quito Cabify Executive</td>\n",
       "      <td>2017-05-26 02:14:25</td>\n",
       "      <td>-78.49</td>\n",
       "      <td>-0.17</td>\n",
       "      <td>-78.49</td>\n",
       "      <td>-0.20</td>\n",
       "      <td>N</td>\n",
       "      <td>1851662</td>\n",
       "      <td>3552.96</td>\n",
       "      <td>728</td>\n",
       "    </tr>\n",
       "    <tr>\n",
       "      <th>9661</th>\n",
       "      <td>Quito</td>\n",
       "      <td>2017-03-23 01:37:38</td>\n",
       "      <td>-78.51</td>\n",
       "      <td>-0.21</td>\n",
       "      <td>-78.51</td>\n",
       "      <td>-0.21</td>\n",
       "      <td>N</td>\n",
       "      <td>-510</td>\n",
       "      <td>83.62</td>\n",
       "      <td>803</td>\n",
       "    </tr>\n",
       "    <tr>\n",
       "      <th>10163</th>\n",
       "      <td>Quito</td>\n",
       "      <td>2016-09-02 06:18:27</td>\n",
       "      <td>-78.49</td>\n",
       "      <td>-0.24</td>\n",
       "      <td>-78.49</td>\n",
       "      <td>-0.21</td>\n",
       "      <td>N</td>\n",
       "      <td>148796</td>\n",
       "      <td>3605.83</td>\n",
       "      <td>97</td>\n",
       "    </tr>\n",
       "    <tr>\n",
       "      <th>10863</th>\n",
       "      <td>Quito</td>\n",
       "      <td>2016-10-18 03:56:52</td>\n",
       "      <td>-78.48</td>\n",
       "      <td>-0.19</td>\n",
       "      <td>-78.45</td>\n",
       "      <td>-0.18</td>\n",
       "      <td>N</td>\n",
       "      <td>267448</td>\n",
       "      <td>4680.65</td>\n",
       "      <td>808</td>\n",
       "    </tr>\n",
       "    <tr>\n",
       "      <th>11503</th>\n",
       "      <td>Quito</td>\n",
       "      <td>2016-12-26 06:15:21</td>\n",
       "      <td>-78.53</td>\n",
       "      <td>-0.26</td>\n",
       "      <td>-78.53</td>\n",
       "      <td>-0.26</td>\n",
       "      <td>N</td>\n",
       "      <td>-1844</td>\n",
       "      <td>78.14</td>\n",
       "      <td>1856</td>\n",
       "    </tr>\n",
       "    <tr>\n",
       "      <th>12150</th>\n",
       "      <td>Quito</td>\n",
       "      <td>2017-01-13 08:24:01</td>\n",
       "      <td>-78.51</td>\n",
       "      <td>-0.23</td>\n",
       "      <td>-78.51</td>\n",
       "      <td>-0.21</td>\n",
       "      <td>N</td>\n",
       "      <td>214422</td>\n",
       "      <td>2322.16</td>\n",
       "      <td>85</td>\n",
       "    </tr>\n",
       "    <tr>\n",
       "      <th>13457</th>\n",
       "      <td>Quito</td>\n",
       "      <td>2017-03-29 02:46:05</td>\n",
       "      <td>-78.43</td>\n",
       "      <td>-0.19</td>\n",
       "      <td>-78.49</td>\n",
       "      <td>-0.21</td>\n",
       "      <td>N</td>\n",
       "      <td>1110140</td>\n",
       "      <td>7995.44</td>\n",
       "      <td>293</td>\n",
       "    </tr>\n",
       "    <tr>\n",
       "      <th>14456</th>\n",
       "      <td>Quito</td>\n",
       "      <td>2016-12-28 10:14:07</td>\n",
       "      <td>-78.50</td>\n",
       "      <td>-0.26</td>\n",
       "      <td>-78.50</td>\n",
       "      <td>-0.26</td>\n",
       "      <td>N</td>\n",
       "      <td>20012</td>\n",
       "      <td>20.23</td>\n",
       "      <td>206</td>\n",
       "    </tr>\n",
       "    <tr>\n",
       "      <th>14856</th>\n",
       "      <td>Quito</td>\n",
       "      <td>2016-12-29 10:10:26</td>\n",
       "      <td>-78.50</td>\n",
       "      <td>-0.20</td>\n",
       "      <td>-78.51</td>\n",
       "      <td>-0.15</td>\n",
       "      <td>N</td>\n",
       "      <td>24405</td>\n",
       "      <td>6984.40</td>\n",
       "      <td>324</td>\n",
       "    </tr>\n",
       "  </tbody>\n",
       "</table>\n",
       "</div>"
      ],
      "text/plain": [
       "                    vendor_id     pickup_datetime  pickup_longitude  \\\n",
       "id                                                                    \n",
       "205                     Quito 2016-08-31 09:52:38            -78.50   \n",
       "289                     Quito 2016-10-27 09:30:21            -78.38   \n",
       "3691                    Quito 2017-06-19 09:03:39            -78.49   \n",
       "3805        Quito Cabify Lite 2017-02-28 08:57:41            -78.47   \n",
       "5320                    Quito 2017-06-13 08:01:30            -78.56   \n",
       "6727                    Quito 2017-07-13 06:17:13            -78.51   \n",
       "7257                    Quito 2017-05-11 11:32:15            -78.48   \n",
       "7440                    Quito 2017-05-12 07:09:05            -78.44   \n",
       "9541   Quito Cabify Executive 2017-05-26 02:14:25            -78.49   \n",
       "9661                    Quito 2017-03-23 01:37:38            -78.51   \n",
       "10163                   Quito 2016-09-02 06:18:27            -78.49   \n",
       "10863                   Quito 2016-10-18 03:56:52            -78.48   \n",
       "11503                   Quito 2016-12-26 06:15:21            -78.53   \n",
       "12150                   Quito 2017-01-13 08:24:01            -78.51   \n",
       "13457                   Quito 2017-03-29 02:46:05            -78.43   \n",
       "14456                   Quito 2016-12-28 10:14:07            -78.50   \n",
       "14856                   Quito 2016-12-29 10:10:26            -78.50   \n",
       "\n",
       "       pickup_latitude  dropoff_longitude  dropoff_latitude  \\\n",
       "id                                                            \n",
       "205              -0.19             -78.48             -0.17   \n",
       "289              -0.21             -78.39             -0.19   \n",
       "3691             -0.21             -78.49             -0.21   \n",
       "3805             -0.13             -78.54             -0.27   \n",
       "5320             -0.29             -78.56             -0.27   \n",
       "6727             -0.28             -78.50             -0.26   \n",
       "7257             -0.13             -78.48             -0.12   \n",
       "7440             -0.09             -78.44             -0.09   \n",
       "9541             -0.17             -78.49             -0.20   \n",
       "9661             -0.21             -78.51             -0.21   \n",
       "10163            -0.24             -78.49             -0.21   \n",
       "10863            -0.19             -78.45             -0.18   \n",
       "11503            -0.26             -78.53             -0.26   \n",
       "12150            -0.23             -78.51             -0.21   \n",
       "13457            -0.19             -78.49             -0.21   \n",
       "14456            -0.26             -78.50             -0.26   \n",
       "14856            -0.20             -78.51             -0.15   \n",
       "\n",
       "      store_and_fwd_flag  trip_estimated  distance_m  wait_sec  \n",
       "id                                                              \n",
       "205                    N         1980260     4688.66       815  \n",
       "289                    N           28907     3579.21        31  \n",
       "3691                   N           13594       91.13         2  \n",
       "3805                   N          482022    22929.88       148  \n",
       "5320                   N           46308     2445.22       461  \n",
       "6727                   N           49786     3232.79        36  \n",
       "7257                   N          359723      264.42         0  \n",
       "7440                   N           69754       65.09      1346  \n",
       "9541                   N         1851662     3552.96       728  \n",
       "9661                   N            -510       83.62       803  \n",
       "10163                  N          148796     3605.83        97  \n",
       "10863                  N          267448     4680.65       808  \n",
       "11503                  N           -1844       78.14      1856  \n",
       "12150                  N          214422     2322.16        85  \n",
       "13457                  N         1110140     7995.44       293  \n",
       "14456                  N           20012       20.23       206  \n",
       "14856                  N           24405     6984.40       324  "
      ]
     },
     "execution_count": 12,
     "metadata": {},
     "output_type": "execute_result"
    }
   ],
   "source": [
    "weird_data = df_train.loc[(df_train[\"trip_estimated\"] <= 0) | (df_train[\"trip_estimated\"] > 10000), \"trip_estimated\"]\n",
    "df_train.loc[weird_data.index, :]"
   ]
  },
  {
   "attachments": {},
   "cell_type": "markdown",
   "metadata": {
    "cell_content_type": "markdown_default",
    "changed": false,
    "deletable": false,
    "editable": false,
    "original-content": "### Outlier Detection\n\nAusreißer können beim Training einen übermäßig hohen Einfluss auf das Modell ausüben. Es lohnt sich also, das Trainingsset von Ausreißern zu befreien. \n\nDen Umgang mit den Ausreißern werden wir im späteren Verlauf beim Sampling festlegen. Hier sollst du dir zunächst erst einmal einen Überblick verschaffen, welche Features Ausreißer enthalten und wie man mit ihnen umgehen könnte.",
    "selectable": false,
    "tags": []
   },
   "source": [
    "### Outlier Detection"
   ]
  },
  {
   "cell_type": "code",
   "execution_count": 13,
   "metadata": {},
   "outputs": [
    {
     "data": {
      "text/plain": [
       "[(0.0, 10000.0), (0.0, 95000.0)]"
      ]
     },
     "execution_count": 13,
     "metadata": {},
     "output_type": "execute_result"
    },
    {
     "data": {
      "image/png": "[encoded data removed]",
      "text/plain": [
       "<Figure size 432x288 with 1 Axes>"
      ]
     },
     "metadata": {
      "needs_background": "light"
     },
     "output_type": "display_data"
    }
   ],
   "source": [
    "sns.scatterplot(data = df_train, x = \"trip_estimated\", y = \"distance_m\", alpha = 0.5).set(xlim=(0, 10000), ylim=(0, 95000))"
   ]
  },
  {
   "cell_type": "code",
   "execution_count": 14,
   "metadata": {
    "cell_content_type": "code_user",
    "changed": false,
    "deletable": false,
    "editable": true,
    "hint": "Wenn du willst, kannst du diese Codezelle gern im Forum unter *Testprojekt: Verkehrsaufkommen* diskutieren.",
    "original-content": "",
    "selectable": true
   },
   "outputs": [
    {
     "data": {
      "text/plain": [
       "<AxesSubplot:>"
      ]
     },
     "execution_count": 14,
     "metadata": {},
     "output_type": "execute_result"
    },
    {
     "data": {
      "image/png": "[encoded data removed]",
      "text/plain": [
       "<Figure size 432x288 with 1 Axes>"
      ]
     },
     "metadata": {
      "needs_background": "light"
     },
     "output_type": "display_data"
    }
   ],
   "source": [
    "df_train[\"km/h\"] = (df_train[\"distance_m\"] * 3.6) / df_train[\"trip_estimated\"]\n",
    "df_train[\"km/h\"].hist(log = True, bins = 100)"
   ]
  },
  {
   "cell_type": "code",
   "execution_count": 15,
   "metadata": {
    "cell_content_type": "code_user",
    "changed": false,
    "deletable": false,
    "editable": true,
    "hint": "Wenn du willst, kannst du diese Codezelle gern im Forum unter *Testprojekt: Verkehrsaufkommen* diskutieren.",
    "original-content": "",
    "selectable": true,
    "tags": []
   },
   "outputs": [
    {
     "name": "stdout",
     "output_type": "stream",
     "text": [
      "Number of outliers with km/h value under 20: 115\n",
      "Number of outliers with km/h value above 70: 5\n"
     ]
    },
    {
     "data": {
      "image/png": "[encoded data removed]",
      "text/plain": [
       "<Figure size 720x288 with 2 Axes>"
      ]
     },
     "metadata": {
      "needs_background": "light"
     },
     "output_type": "display_data"
    }
   ],
   "source": [
    "fig, ax = plt.subplots(ncols = 2, figsize = (10, 4))\n",
    "df_train.loc[(df_train[\"km/h\"] > 17) & (df_train[\"km/h\"] <= 23), \"km/h\"].hist(bins = 10, ax = ax[0], log = False)\n",
    "df_train.loc[(df_train[\"km/h\"] > 60) & (df_train[\"km/h\"] <= 75), \"km/h\"].hist(bins = 10, ax = ax[1], log = False)\n",
    "print(f\"Number of outliers with km/h value under 20: {df_train.loc[df_train['km/h'] < 20, 'km/h'].count()}\")\n",
    "print(f\"Number of outliers with km/h value above 70: {df_train.loc[df_train['km/h'] > 70, 'km/h'].count()}\")\n",
    "\n",
    "# data points with \"km/h\" value outside of the <20 ; 70> interval will be dropped\n",
    "mask_outliers_kmh = (df_train[\"km/h\"] < 20) | (df_train[\"km/h\"] > 70)"
   ]
  },
  {
   "cell_type": "code",
   "execution_count": 16,
   "metadata": {
    "cell_content_type": "code_user",
    "changed": false,
    "deletable": false,
    "editable": true,
    "hint": "Wenn du willst, kannst du diese Codezelle gern im Forum unter *Testprojekt: Verkehrsaufkommen* diskutieren.",
    "original-content": "",
    "selectable": true
   },
   "outputs": [
    {
     "data": {
      "text/plain": [
       "[(0.0, 10000.0), (0.0, 80000.0)]"
      ]
     },
     "execution_count": 16,
     "metadata": {},
     "output_type": "execute_result"
    },
    {
     "data": {
      "image/png": "[encoded data removed]",
      "text/plain": [
       "<Figure size 432x288 with 1 Axes>"
      ]
     },
     "metadata": {
      "needs_background": "light"
     },
     "output_type": "display_data"
    }
   ],
   "source": [
    "sns.scatterplot(data = df_train, x = \"trip_estimated\", y = \"distance_m\", alpha = 0.5, hue = mask_outliers_kmh).set(xlim=(0, 10000), ylim=(0, 80000))"
   ]
  },
  {
   "cell_type": "code",
   "execution_count": 17,
   "metadata": {
    "cell_content_type": "code_user",
    "changed": false,
    "deletable": false,
    "editable": true,
    "hint": "Wenn du willst, kannst du diese Codezelle gern im Forum unter *Testprojekt: Verkehrsaufkommen* diskutieren.",
    "hint_counter": 0,
    "original-content": "",
    "selectable": true
   },
   "outputs": [],
   "source": [
    "# mask for rides outside the city: mask_city\n",
    "# mask for outliers with wrong trip_estimated value: mask_outliers_kmh\n",
    "\n",
    "df_train = df_train[~mask_outliers_kmh]"
   ]
  },
  {
   "attachments": {},
   "cell_type": "markdown",
   "metadata": {
    "cell_content_type": "markdown_default",
    "changed": false,
    "deletable": false,
    "editable": false,
    "original-content": "### Check correlations\n\nWie man die Korrelation berechnet, haben in *Modul 2, Kapitel 2, Kontinuierliche Features vorbereiten* gelernt. Dort haben wir sie auch visualisiert.\n\nSchaue dir die Korrelations-Heatmap an und übeprüfe, ob es Auffälligkeiten gibt.",
    "selectable": false
   },
   "source": [
    "### Check correlations"
   ]
  },
  {
   "cell_type": "code",
   "execution_count": 18,
   "metadata": {
    "cell_content_type": "code_user",
    "changed": false,
    "deletable": false,
    "editable": true,
    "hint": "Wenn du willst, kannst du diese Codezelle gern im Forum unter *Testprojekt: Verkehrsaufkommen* diskutieren.",
    "original-content": "",
    "selectable": true
   },
   "outputs": [
    {
     "data": {
      "text/plain": [
       "<AxesSubplot:>"
      ]
     },
     "execution_count": 18,
     "metadata": {},
     "output_type": "execute_result"
    },
    {
     "data": {
      "image/png": "[encoded data removed]",
      "text/plain": [
       "<Figure size 432x288 with 2 Axes>"
      ]
     },
     "metadata": {
      "needs_background": "light"
     },
     "output_type": "display_data"
    }
   ],
   "source": [
    "sns.heatmap(df_train.corr(), annot = True, cmap='coolwarm')\n",
    "\n",
    "# high correlation between latitude-latitude and longitude-longitude\n",
    "# 1) remove one 2) use PCA 3) ridge or lasso 4) ignore\n",
    "\n",
    "# high correlation between distance and trip estimated\n",
    "# 1) use km/h feature only"
   ]
  },
  {
   "cell_type": "code",
   "execution_count": 19,
   "metadata": {
    "cell_content_type": "code_user",
    "changed": false,
    "deletable": false,
    "editable": true,
    "hint": "Wenn du willst, kannst du diese Codezelle gern im Forum unter *Testprojekt: Verkehrsaufkommen* diskutieren.",
    "hint_counter": 1,
    "original-content": "",
    "selectable": true,
    "tags": []
   },
   "outputs": [
    {
     "data": {
      "text/html": [
       "<div>\n",
       "<style scoped>\n",
       "    .dataframe tbody tr th:only-of-type {\n",
       "        vertical-align: middle;\n",
       "    }\n",
       "\n",
       "    .dataframe tbody tr th {\n",
       "        vertical-align: top;\n",
       "    }\n",
       "\n",
       "    .dataframe thead th {\n",
       "        text-align: right;\n",
       "    }\n",
       "</style>\n",
       "<table border=\"1\" class=\"dataframe\">\n",
       "  <thead>\n",
       "    <tr style=\"text-align: right;\">\n",
       "      <th></th>\n",
       "      <th>pickup_longitude</th>\n",
       "      <th>pickup_latitude</th>\n",
       "      <th>dropoff_longitude</th>\n",
       "      <th>dropoff_latitude</th>\n",
       "      <th>trip_estimated</th>\n",
       "      <th>distance_m</th>\n",
       "      <th>wait_sec</th>\n",
       "      <th>km/h</th>\n",
       "    </tr>\n",
       "  </thead>\n",
       "  <tbody>\n",
       "    <tr>\n",
       "      <th>count</th>\n",
       "      <td>15511.00</td>\n",
       "      <td>15511.00</td>\n",
       "      <td>15511.00</td>\n",
       "      <td>15511.00</td>\n",
       "      <td>15511.00</td>\n",
       "      <td>15511.00</td>\n",
       "      <td>15511.00</td>\n",
       "      <td>15511.00</td>\n",
       "    </tr>\n",
       "    <tr>\n",
       "      <th>mean</th>\n",
       "      <td>-78.49</td>\n",
       "      <td>-0.19</td>\n",
       "      <td>-78.49</td>\n",
       "      <td>-0.19</td>\n",
       "      <td>643.85</td>\n",
       "      <td>5441.15</td>\n",
       "      <td>304.12</td>\n",
       "      <td>30.57</td>\n",
       "    </tr>\n",
       "    <tr>\n",
       "      <th>std</th>\n",
       "      <td>0.03</td>\n",
       "      <td>0.06</td>\n",
       "      <td>0.03</td>\n",
       "      <td>0.06</td>\n",
       "      <td>508.48</td>\n",
       "      <td>4629.85</td>\n",
       "      <td>282.77</td>\n",
       "      <td>8.22</td>\n",
       "    </tr>\n",
       "    <tr>\n",
       "      <th>min</th>\n",
       "      <td>-78.58</td>\n",
       "      <td>-0.39</td>\n",
       "      <td>-78.58</td>\n",
       "      <td>-0.40</td>\n",
       "      <td>1.00</td>\n",
       "      <td>14.92</td>\n",
       "      <td>0.00</td>\n",
       "      <td>20.00</td>\n",
       "    </tr>\n",
       "    <tr>\n",
       "      <th>25%</th>\n",
       "      <td>-78.51</td>\n",
       "      <td>-0.21</td>\n",
       "      <td>-78.50</td>\n",
       "      <td>-0.22</td>\n",
       "      <td>313.00</td>\n",
       "      <td>2470.99</td>\n",
       "      <td>109.00</td>\n",
       "      <td>24.41</td>\n",
       "    </tr>\n",
       "    <tr>\n",
       "      <th>50%</th>\n",
       "      <td>-78.49</td>\n",
       "      <td>-0.18</td>\n",
       "      <td>-78.49</td>\n",
       "      <td>-0.18</td>\n",
       "      <td>514.00</td>\n",
       "      <td>4146.31</td>\n",
       "      <td>223.00</td>\n",
       "      <td>28.82</td>\n",
       "    </tr>\n",
       "    <tr>\n",
       "      <th>75%</th>\n",
       "      <td>-78.47</td>\n",
       "      <td>-0.15</td>\n",
       "      <td>-78.48</td>\n",
       "      <td>-0.15</td>\n",
       "      <td>824.00</td>\n",
       "      <td>6900.76</td>\n",
       "      <td>404.00</td>\n",
       "      <td>34.70</td>\n",
       "    </tr>\n",
       "    <tr>\n",
       "      <th>max</th>\n",
       "      <td>-78.32</td>\n",
       "      <td>0.01</td>\n",
       "      <td>-78.31</td>\n",
       "      <td>0.04</td>\n",
       "      <td>6249.00</td>\n",
       "      <td>40691.04</td>\n",
       "      <td>1929.00</td>\n",
       "      <td>69.90</td>\n",
       "    </tr>\n",
       "  </tbody>\n",
       "</table>\n",
       "</div>"
      ],
      "text/plain": [
       "       pickup_longitude  pickup_latitude  dropoff_longitude  dropoff_latitude  \\\n",
       "count          15511.00         15511.00           15511.00          15511.00   \n",
       "mean             -78.49            -0.19             -78.49             -0.19   \n",
       "std                0.03             0.06               0.03              0.06   \n",
       "min              -78.58            -0.39             -78.58             -0.40   \n",
       "25%              -78.51            -0.21             -78.50             -0.22   \n",
       "50%              -78.49            -0.18             -78.49             -0.18   \n",
       "75%              -78.47            -0.15             -78.48             -0.15   \n",
       "max              -78.32             0.01             -78.31              0.04   \n",
       "\n",
       "       trip_estimated  distance_m  wait_sec     km/h  \n",
       "count        15511.00    15511.00  15511.00 15511.00  \n",
       "mean           643.85     5441.15    304.12    30.57  \n",
       "std            508.48     4629.85    282.77     8.22  \n",
       "min              1.00       14.92      0.00    20.00  \n",
       "25%            313.00     2470.99    109.00    24.41  \n",
       "50%            514.00     4146.31    223.00    28.82  \n",
       "75%            824.00     6900.76    404.00    34.70  \n",
       "max           6249.00    40691.04   1929.00    69.90  "
      ]
     },
     "metadata": {},
     "output_type": "display_data"
    },
    {
     "data": {
      "text/plain": [
       "<AxesSubplot:xlabel='dropoff_longitude', ylabel='dropoff_latitude'>"
      ]
     },
     "execution_count": 19,
     "metadata": {},
     "output_type": "execute_result"
    },
    {
     "data": {
      "image/png": "[encoded data removed]",
      "text/plain": [
       "<Figure size 432x432 with 1 Axes>"
      ]
     },
     "metadata": {
      "needs_background": "light"
     },
     "output_type": "display_data"
    }
   ],
   "source": [
    "display(df_train.describe())\n",
    "fig, ax = plt.subplots(nrows = 1, ncols = 1, figsize = (6,6))\n",
    "sns.scatterplot(data = df_train, x = \"dropoff_longitude\", y = \"dropoff_latitude\", alpha = 0.75, ax = ax, s = 5, linewidth=0)\n",
    "sns.scatterplot(data = df_train, x = \"pickup_longitude\", y = \"pickup_latitude\", alpha = 0.75, ax = ax, s = 5, linewidth=0)"
   ]
  },
  {
   "cell_type": "code",
   "execution_count": 20,
   "metadata": {
    "cell_content_type": "code_user",
    "changed": false,
    "deletable": false,
    "editable": true,
    "hint": "Wenn du willst, kannst du diese Codezelle gern im Forum unter *Testprojekt: Verkehrsaufkommen* diskutieren.",
    "hint_counter": 1,
    "original-content": "",
    "selectable": true,
    "tags": []
   },
   "outputs": [],
   "source": [
    "df = pd.read_csv(\"data_train.csv\", index_col =  \"id\")\n",
    "df_train, df_test = train_test_split(df, test_size = 0.1, random_state = 42)"
   ]
  },
  {
   "cell_type": "code",
   "execution_count": 21,
   "metadata": {
    "cell_content_type": "code_user",
    "changed": false,
    "deletable": false,
    "editable": true,
    "hint": "Wenn du willst, kannst du diese Codezelle gern im Forum unter *Testprojekt: Verkehrsaufkommen* diskutieren.",
    "original-content": "",
    "selectable": true
   },
   "outputs": [
    {
     "data": {
      "text/html": [
       "<div>\n",
       "<style scoped>\n",
       "    .dataframe tbody tr th:only-of-type {\n",
       "        vertical-align: middle;\n",
       "    }\n",
       "\n",
       "    .dataframe tbody tr th {\n",
       "        vertical-align: top;\n",
       "    }\n",
       "\n",
       "    .dataframe thead th {\n",
       "        text-align: right;\n",
       "    }\n",
       "</style>\n",
       "<table border=\"1\" class=\"dataframe\">\n",
       "  <thead>\n",
       "    <tr style=\"text-align: right;\">\n",
       "      <th></th>\n",
       "      <th>vendor_id</th>\n",
       "      <th>pickup_datetime</th>\n",
       "      <th>pickup_longitude</th>\n",
       "      <th>pickup_latitude</th>\n",
       "      <th>dropoff_longitude</th>\n",
       "      <th>dropoff_latitude</th>\n",
       "      <th>store_and_fwd_flag</th>\n",
       "      <th>trip_estimated</th>\n",
       "      <th>distance_m</th>\n",
       "      <th>wait_sec</th>\n",
       "    </tr>\n",
       "    <tr>\n",
       "      <th>id</th>\n",
       "      <th></th>\n",
       "      <th></th>\n",
       "      <th></th>\n",
       "      <th></th>\n",
       "      <th></th>\n",
       "      <th></th>\n",
       "      <th></th>\n",
       "      <th></th>\n",
       "      <th></th>\n",
       "      <th></th>\n",
       "    </tr>\n",
       "  </thead>\n",
       "  <tbody>\n",
       "    <tr>\n",
       "      <th>10198</th>\n",
       "      <td>Quito</td>\n",
       "      <td>2016-08-19 11:07:05</td>\n",
       "      <td>-78.49</td>\n",
       "      <td>-0.15</td>\n",
       "      <td>-78.49</td>\n",
       "      <td>-0.17</td>\n",
       "      <td>N</td>\n",
       "      <td>271</td>\n",
       "      <td>3051.50</td>\n",
       "      <td>227</td>\n",
       "    </tr>\n",
       "    <tr>\n",
       "      <th>3482</th>\n",
       "      <td>Quito</td>\n",
       "      <td>2017-01-24 08:16:53</td>\n",
       "      <td>-78.49</td>\n",
       "      <td>-0.21</td>\n",
       "      <td>-78.53</td>\n",
       "      <td>-0.24</td>\n",
       "      <td>N</td>\n",
       "      <td>1285</td>\n",
       "      <td>7668.89</td>\n",
       "      <td>603</td>\n",
       "    </tr>\n",
       "    <tr>\n",
       "      <th>7760</th>\n",
       "      <td>Quito</td>\n",
       "      <td>2017-07-18 10:08:14</td>\n",
       "      <td>-78.51</td>\n",
       "      <td>-0.25</td>\n",
       "      <td>-78.52</td>\n",
       "      <td>-0.25</td>\n",
       "      <td>N</td>\n",
       "      <td>391</td>\n",
       "      <td>2268.81</td>\n",
       "      <td>220</td>\n",
       "    </tr>\n",
       "    <tr>\n",
       "      <th>13622</th>\n",
       "      <td>Quito</td>\n",
       "      <td>2017-04-22 02:20:57</td>\n",
       "      <td>-78.49</td>\n",
       "      <td>-0.18</td>\n",
       "      <td>-78.50</td>\n",
       "      <td>-0.18</td>\n",
       "      <td>N</td>\n",
       "      <td>286</td>\n",
       "      <td>2839.05</td>\n",
       "      <td>44</td>\n",
       "    </tr>\n",
       "    <tr>\n",
       "      <th>7188</th>\n",
       "      <td>Quito</td>\n",
       "      <td>2016-07-08 09:36:10</td>\n",
       "      <td>-78.53</td>\n",
       "      <td>-0.25</td>\n",
       "      <td>-78.55</td>\n",
       "      <td>-0.32</td>\n",
       "      <td>N</td>\n",
       "      <td>1532</td>\n",
       "      <td>9679.17</td>\n",
       "      <td>621</td>\n",
       "    </tr>\n",
       "  </tbody>\n",
       "</table>\n",
       "</div>"
      ],
      "text/plain": [
       "      vendor_id      pickup_datetime  pickup_longitude  pickup_latitude  \\\n",
       "id                                                                        \n",
       "10198     Quito  2016-08-19 11:07:05            -78.49            -0.15   \n",
       "3482      Quito  2017-01-24 08:16:53            -78.49            -0.21   \n",
       "7760      Quito  2017-07-18 10:08:14            -78.51            -0.25   \n",
       "13622     Quito  2017-04-22 02:20:57            -78.49            -0.18   \n",
       "7188      Quito  2016-07-08 09:36:10            -78.53            -0.25   \n",
       "\n",
       "       dropoff_longitude  dropoff_latitude store_and_fwd_flag  trip_estimated  \\\n",
       "id                                                                              \n",
       "10198             -78.49             -0.17                  N             271   \n",
       "3482              -78.53             -0.24                  N            1285   \n",
       "7760              -78.52             -0.25                  N             391   \n",
       "13622             -78.50             -0.18                  N             286   \n",
       "7188              -78.55             -0.32                  N            1532   \n",
       "\n",
       "       distance_m  wait_sec  \n",
       "id                           \n",
       "10198     3051.50       227  \n",
       "3482      7668.89       603  \n",
       "7760      2268.81       220  \n",
       "13622     2839.05        44  \n",
       "7188      9679.17       621  "
      ]
     },
     "execution_count": 21,
     "metadata": {},
     "output_type": "execute_result"
    }
   ],
   "source": [
    "df_train.head()"
   ]
  },
  {
   "cell_type": "code",
   "execution_count": 22,
   "metadata": {
    "cell_content_type": "code_user",
    "changed": false,
    "deletable": false,
    "editable": true,
    "hint": "Wenn du willst, kannst du diese Codezelle gern im Forum unter *Testprojekt: Verkehrsaufkommen* diskutieren.",
    "original-content": "",
    "selectable": true
   },
   "outputs": [
    {
     "data": {
      "text/plain": [
       "(1566, 10)"
      ]
     },
     "execution_count": 22,
     "metadata": {},
     "output_type": "execute_result"
    }
   ],
   "source": [
    "df_test.shape"
   ]
  },
  {
   "attachments": {},
   "cell_type": "markdown",
   "metadata": {
    "cell_content_type": "markdown_default",
    "changed": false,
    "deletable": false,
    "editable": false,
    "original-content": "## Data Preparation\n\nDie Aufbereitung deiner Daten ist besonders für das Trainingsset wichtig. Durch ein sorgfältiges Bearbeiten der Daten wird ein Training deines Modells überhaupt erst möglich. ",
    "selectable": false
   },
   "source": [
    "## Data Preparation"
   ]
  },
  {
   "attachments": {},
   "cell_type": "markdown",
   "metadata": {
    "cell_content_type": "markdown_default",
    "changed": false,
    "deletable": false,
    "editable": false,
    "original-content": "### Datatype Transformation",
    "selectable": false
   },
   "source": [
    "### Datatype Transformation"
   ]
  },
  {
   "cell_type": "code",
   "execution_count": 23,
   "metadata": {
    "cell_content_type": "code_user",
    "changed": false,
    "deletable": false,
    "editable": true,
    "hint": "Wenn du willst, kannst du diese Codezelle gern im Forum unter *Testprojekt: Verkehrsaufkommen* diskutieren.",
    "hint_counter": 1,
    "original-content": "",
    "selectable": true,
    "tags": []
   },
   "outputs": [],
   "source": [
    "# transform datatypes of df_train\n",
    "\n",
    "df_train = df_train.drop([\"store_and_fwd_flag\"], axis = 1)\n",
    "df_train[[\"vendor_id\"]] = df_train[[\"vendor_id\"]].astype(\"category\")\n",
    "df_train[\"pickup_datetime\"] = pd.to_datetime(df_train[\"pickup_datetime\"])"
   ]
  },
  {
   "cell_type": "code",
   "execution_count": 24,
   "metadata": {},
   "outputs": [],
   "source": [
    "# transform datatypes of df_test\n",
    "\n",
    "df_test = df_test.drop([\"store_and_fwd_flag\"], axis = 1)\n",
    "df_test[[\"vendor_id\"]] = df_test[[\"vendor_id\"]].astype(\"category\")\n",
    "df_test[\"pickup_datetime\"] = pd.to_datetime(df_test[\"pickup_datetime\"])"
   ]
  },
  {
   "cell_type": "code",
   "execution_count": 25,
   "metadata": {
    "cell_content_type": "code_user",
    "changed": false,
    "deletable": false,
    "editable": true,
    "hint": "Wenn du willst, kannst du diese Codezelle gern im Forum unter *Testprojekt: Verkehrsaufkommen* diskutieren.",
    "original-content": "",
    "selectable": true
   },
   "outputs": [
    {
     "data": {
      "text/plain": [
       "15657"
      ]
     },
     "execution_count": 25,
     "metadata": {},
     "output_type": "execute_result"
    }
   ],
   "source": [
    "df_train.shape[0] + df_test.shape[0]"
   ]
  },
  {
   "attachments": {},
   "cell_type": "markdown",
   "metadata": {
    "cell_content_type": "markdown_default",
    "changed": false,
    "deletable": false,
    "editable": false,
    "original-content": "### Cleaning Data",
    "selectable": false
   },
   "source": [
    "### Data Cleaning"
   ]
  },
  {
   "attachments": {},
   "cell_type": "markdown",
   "metadata": {
    "cell_content_type": "markdown_selectable",
    "changed": false,
    "deletable": false,
    "editable": true,
    "original-content": "Um am Ende deine Schritte leicht zu reproduzieren, solltest du eine Funktion definieren, die die Konvertierungsschritte für dich ausführt. Es ist dabei guter Stil, für jede Funktion einen Doc-String (`\"\"\"myDocstring\"\"\"`) zu formulieren. Nenne deine erste Funktion `clean_data`. Diese Funktion sollte folgende Schritte beinhalten: \n* Datentypen transformieren\n* mit `NaN`s oder fehlerhaften Werten umgehen\n\nDiese Funktion werden wir auf das **Trainingsset**, das **Testset**  und auf alle weiteren eingehenden Daten (z.B. das **Zielset**) anwenden. Bedenke daher, dass hier noch keine Ausreißer entfernt werden sollten oder neue Features erzeugt werden - hierfür werden wir im nächsten Schritt eine `data_sampling`-Funktion und eine `engineer_features`-Funktion erstellen. Die `clean_data`-Funktion sollte dafür sorgen, dass alle deine Daten im Zielformat vorliegen und `NaN`s möglichst eliminiert werden.",
    "selectable": true
   },
   "source": [
    "Define two Data Cleaning functions - one for train and one for test/aim data."
   ]
  },
  {
   "cell_type": "code",
   "execution_count": 444,
   "metadata": {
    "cell_content_type": "code_user",
    "changed": false,
    "deletable": false,
    "editable": true,
    "hint": "Wenn du willst, kannst du diese Codezelle gern im Forum unter *Testprojekt: Verkehrsaufkommen* diskutieren.",
    "hint_counter": 0,
    "original-content": "",
    "selectable": true
   },
   "outputs": [],
   "source": [
    "def clean_data_train(df):\n",
    "    \"\"\"\n",
    "    FOR TRAIN DATA ONLY - DROPS DUPLICATES\n",
    "    This function takes pd.DataFrame, removes NaNs, unused columns, drops duplicates and changes datatypes.\n",
    "    Returns cleaned pd.DataFrame.\n",
    "    \n",
    "    Parameters:\n",
    "    -----------\n",
    "    df : pd.DataFrame\n",
    "            \n",
    "    Returns:\n",
    "    --------\n",
    "    df : pd.DataFrame\n",
    "    \n",
    "    \"\"\"\n",
    "    df = df.dropna()\n",
    "    df.index = df[\"id\"]\n",
    "    df = df.drop([\"id\", \"store_and_fwd_flag\"], axis = 1)\n",
    "    df[[\"vendor_id\"]] = df[[\"vendor_id\"]].astype(\"category\")\n",
    "    df[\"pickup_datetime\"] = pd.to_datetime(df[\"pickup_datetime\"])\n",
    "    df = df.drop_duplicates()\n",
    "    return df\n",
    "\n",
    "def clean_data_test_aim(df):\n",
    "    \"\"\"\n",
    "    This function takes pd.DataFrame, removes NaNs, unused columns, drops duplicates and changes datatypes.\n",
    "    Returns cleaned pd.DataFrame.\n",
    "    \n",
    "    Parameters:\n",
    "    -----------\n",
    "    df : pd.DataFrame\n",
    "            \n",
    "    Returns:\n",
    "    --------\n",
    "    df : pd.DataFrame\n",
    "    \n",
    "    \"\"\"\n",
    "    df = df.dropna()\n",
    "    df.index = df[\"id\"]\n",
    "    df = df.drop([\"id\", \"store_and_fwd_flag\"], axis = 1)\n",
    "    df[[\"vendor_id\"]] = df[[\"vendor_id\"]].astype(\"category\")\n",
    "    df[\"pickup_datetime\"] = pd.to_datetime(df[\"pickup_datetime\"])\n",
    "    return df"
   ]
  },
  {
   "cell_type": "code",
   "execution_count": 27,
   "metadata": {},
   "outputs": [
    {
     "data": {
      "text/html": [
       "<div>\n",
       "<style scoped>\n",
       "    .dataframe tbody tr th:only-of-type {\n",
       "        vertical-align: middle;\n",
       "    }\n",
       "\n",
       "    .dataframe tbody tr th {\n",
       "        vertical-align: top;\n",
       "    }\n",
       "\n",
       "    .dataframe thead th {\n",
       "        text-align: right;\n",
       "    }\n",
       "</style>\n",
       "<table border=\"1\" class=\"dataframe\">\n",
       "  <thead>\n",
       "    <tr style=\"text-align: right;\">\n",
       "      <th></th>\n",
       "      <th>pickup_longitude</th>\n",
       "      <th>pickup_latitude</th>\n",
       "      <th>dropoff_longitude</th>\n",
       "      <th>dropoff_latitude</th>\n",
       "      <th>trip_estimated</th>\n",
       "      <th>distance_m</th>\n",
       "      <th>wait_sec</th>\n",
       "    </tr>\n",
       "  </thead>\n",
       "  <tbody>\n",
       "    <tr>\n",
       "      <th>count</th>\n",
       "      <td>15388.00</td>\n",
       "      <td>15388.00</td>\n",
       "      <td>15388.00</td>\n",
       "      <td>15388.00</td>\n",
       "      <td>15388.00</td>\n",
       "      <td>15388.00</td>\n",
       "      <td>15388.00</td>\n",
       "    </tr>\n",
       "    <tr>\n",
       "      <th>mean</th>\n",
       "      <td>-78.49</td>\n",
       "      <td>-0.19</td>\n",
       "      <td>-78.49</td>\n",
       "      <td>-0.19</td>\n",
       "      <td>1079.65</td>\n",
       "      <td>5438.54</td>\n",
       "      <td>304.10</td>\n",
       "    </tr>\n",
       "    <tr>\n",
       "      <th>std</th>\n",
       "      <td>0.03</td>\n",
       "      <td>0.06</td>\n",
       "      <td>0.03</td>\n",
       "      <td>0.06</td>\n",
       "      <td>24303.13</td>\n",
       "      <td>4766.37</td>\n",
       "      <td>284.35</td>\n",
       "    </tr>\n",
       "    <tr>\n",
       "      <th>min</th>\n",
       "      <td>-79.91</td>\n",
       "      <td>-2.11</td>\n",
       "      <td>-79.89</td>\n",
       "      <td>-2.16</td>\n",
       "      <td>-1844.00</td>\n",
       "      <td>8.00</td>\n",
       "      <td>0.00</td>\n",
       "    </tr>\n",
       "    <tr>\n",
       "      <th>25%</th>\n",
       "      <td>-78.51</td>\n",
       "      <td>-0.21</td>\n",
       "      <td>-78.50</td>\n",
       "      <td>-0.22</td>\n",
       "      <td>313.00</td>\n",
       "      <td>2438.86</td>\n",
       "      <td>108.00</td>\n",
       "    </tr>\n",
       "    <tr>\n",
       "      <th>50%</th>\n",
       "      <td>-78.49</td>\n",
       "      <td>-0.18</td>\n",
       "      <td>-78.49</td>\n",
       "      <td>-0.18</td>\n",
       "      <td>514.00</td>\n",
       "      <td>4125.00</td>\n",
       "      <td>222.00</td>\n",
       "    </tr>\n",
       "    <tr>\n",
       "      <th>75%</th>\n",
       "      <td>-78.47</td>\n",
       "      <td>-0.15</td>\n",
       "      <td>-78.48</td>\n",
       "      <td>-0.15</td>\n",
       "      <td>827.00</td>\n",
       "      <td>6883.32</td>\n",
       "      <td>404.00</td>\n",
       "    </tr>\n",
       "    <tr>\n",
       "      <th>max</th>\n",
       "      <td>-78.17</td>\n",
       "      <td>0.34</td>\n",
       "      <td>-78.13</td>\n",
       "      <td>0.35</td>\n",
       "      <td>1980260.00</td>\n",
       "      <td>92322.76</td>\n",
       "      <td>1929.00</td>\n",
       "    </tr>\n",
       "  </tbody>\n",
       "</table>\n",
       "</div>"
      ],
      "text/plain": [
       "       pickup_longitude  pickup_latitude  dropoff_longitude  dropoff_latitude  \\\n",
       "count          15388.00         15388.00           15388.00          15388.00   \n",
       "mean             -78.49            -0.19             -78.49             -0.19   \n",
       "std                0.03             0.06               0.03              0.06   \n",
       "min              -79.91            -2.11             -79.89             -2.16   \n",
       "25%              -78.51            -0.21             -78.50             -0.22   \n",
       "50%              -78.49            -0.18             -78.49             -0.18   \n",
       "75%              -78.47            -0.15             -78.48             -0.15   \n",
       "max              -78.17             0.34             -78.13              0.35   \n",
       "\n",
       "       trip_estimated  distance_m  wait_sec  \n",
       "count        15388.00    15388.00  15388.00  \n",
       "mean          1079.65     5438.54    304.10  \n",
       "std          24303.13     4766.37    284.35  \n",
       "min          -1844.00        8.00      0.00  \n",
       "25%            313.00     2438.86    108.00  \n",
       "50%            514.00     4125.00    222.00  \n",
       "75%            827.00     6883.32    404.00  \n",
       "max        1980260.00    92322.76   1929.00  "
      ]
     },
     "execution_count": 27,
     "metadata": {},
     "output_type": "execute_result"
    }
   ],
   "source": [
    "df = pd.read_csv(\"data_train.csv\")\n",
    "df = clean_data_train(df)\n",
    "df.describe()"
   ]
  },
  {
   "cell_type": "code",
   "execution_count": 28,
   "metadata": {
    "cell_content_type": "code_user",
    "changed": false,
    "deletable": false,
    "editable": true,
    "hint": "Wenn du willst, kannst du diese Codezelle gern im Forum unter *Testprojekt: Verkehrsaufkommen* diskutieren.",
    "hint_counter": 0,
    "original-content": "",
    "selectable": true,
    "tags": []
   },
   "outputs": [],
   "source": [
    "def city_only_data(df):\n",
    "    \"\"\"\n",
    "    This function takes pd.DataFrame and removes rides with any pickup or dropoff point outside the city.\n",
    "    Returns pd.DataFrame with rides inside the city only.\n",
    "    \n",
    "    Parameters:\n",
    "    -----------\n",
    "    df : pd.DataFrame\n",
    "            \n",
    "    Returns:\n",
    "    --------\n",
    "    df : pd.DataFrame\n",
    "    \n",
    "    \"\"\"\n",
    "    MAX_LAT = 0.05\n",
    "    MIN_LAT = -0.4\n",
    "    MAX_LON = -78.3\n",
    "    MIN_LON = -78.6\n",
    "\n",
    "    mask_city = ((df['pickup_longitude'] < MAX_LON) & \n",
    "                 (df['pickup_longitude'] > MIN_LON) &\n",
    "                 (df['dropoff_longitude'] < MAX_LON) & \n",
    "                 (df['dropoff_longitude'] > MIN_LON) &\n",
    "                 (df['pickup_latitude'] < MAX_LAT) & \n",
    "                 (df['pickup_latitude'] > MIN_LAT) &\n",
    "                 (df['dropoff_latitude'] < MAX_LAT) & \n",
    "                 (df['dropoff_latitude'] > MIN_LAT))\n",
    "\n",
    "    df = df[mask_city]\n",
    "    \n",
    "    return df"
   ]
  },
  {
   "cell_type": "code",
   "execution_count": 29,
   "metadata": {},
   "outputs": [],
   "source": [
    "def generate_kmh_col(df):\n",
    "    \"\"\"\n",
    "    This function takes pd.DataFrame, creates new \"km/h\" feature, and removes the outliers based on the empiric criteria.\n",
    "    Returns clean pd.DataFrame.\n",
    "    \n",
    "    Parameters:\n",
    "    -----------\n",
    "    df : pd.DataFrame\n",
    "            \n",
    "    Returns:\n",
    "    --------\n",
    "    df : pd.DataFrame\n",
    "    \n",
    "    \"\"\"\n",
    "    df = df.copy()\n",
    "    df.loc[:, \"km/h\"] = ((df[\"distance_m\"] * 3.6) / df[\"trip_estimated\"])\n",
    "        \n",
    "    return df"
   ]
  },
  {
   "cell_type": "code",
   "execution_count": 30,
   "metadata": {
    "cell_content_type": "code_user",
    "changed": false,
    "deletable": false,
    "editable": true,
    "hint": "Wenn du willst, kannst du diese Codezelle gern im Forum unter *Testprojekt: Verkehrsaufkommen* diskutieren.",
    "original-content": "",
    "selectable": true
   },
   "outputs": [],
   "source": [
    "def remove_kmh_outliers(df):\n",
    "    \"\"\"\n",
    "    This function takes pd.DataFrame and removes the outliers based on the km/h value.\n",
    "    Returns clean pd.DataFrame.\n",
    "    \n",
    "    Parameters:\n",
    "    -----------\n",
    "    df : pd.DataFrame\n",
    "            \n",
    "    Returns:\n",
    "    --------\n",
    "    df : pd.DataFrame\n",
    "    \n",
    "    \"\"\"\n",
    "    df = df.copy()\n",
    "    mask_outliers_kmh = (df[\"km/h\"] < 20) | (df[\"km/h\"] > 70)\n",
    "    df = df[~mask_outliers_kmh]\n",
    "    \n",
    "    return df"
   ]
  },
  {
   "cell_type": "code",
   "execution_count": 31,
   "metadata": {},
   "outputs": [],
   "source": [
    "def impute_kmh_outliers(df):\n",
    "    \"\"\"\n",
    "    This function takes pd.DataFrame and imputes the outliers based on the km/h value.\n",
    "    Returns clean pd.DataFrame.\n",
    "    \n",
    "    Parameters:\n",
    "    -----------\n",
    "    df : pd.DataFrame\n",
    "            \n",
    "    Returns:\n",
    "    --------\n",
    "    df : pd.DataFrame\n",
    "    \n",
    "    \"\"\"\n",
    "    df = df.copy()\n",
    "    median_kmh = df[\"km/h\"].median()    \n",
    "    mask_outliers_kmh = ((df[\"km/h\"] < 20) | (df[\"km/h\"] > 70))\n",
    "    df.loc[mask_outliers_kmh, \"km/h\"] = median_kmh\n",
    "    df.loc[mask_outliers_kmh, \"trip_estimated\"] = (df[\"distance_m\"] * 3.6) / df[\"km/h\"]\n",
    "    \n",
    "    return df"
   ]
  },
  {
   "cell_type": "code",
   "execution_count": 32,
   "metadata": {
    "cell_content_type": "code_user",
    "changed": false,
    "deletable": false,
    "editable": true,
    "hint": "Wenn du willst, kannst du diese Codezelle gern im Forum unter *Testprojekt: Verkehrsaufkommen* diskutieren.",
    "hint_counter": 0,
    "original-content": "",
    "selectable": true,
    "tags": []
   },
   "outputs": [],
   "source": [
    "def sampling_data(df):\n",
    "    \"\"\"\n",
    "    FOR TRAINING DATA ONLY\n",
    "    This function takes pd.DataFrame, removes rides outside the city, outliers, cleans data,\n",
    "    adds km/h feature, removes its outliers.\n",
    "    Returns pd.DataFrame clean TRAINING dataframe.\n",
    "    \n",
    "    Parameters:\n",
    "    -----------\n",
    "    df : pd.DataFrame\n",
    "            \n",
    "    Returns:\n",
    "    --------\n",
    "    df : pd.DataFrame\n",
    "    \n",
    "    \"\"\"\n",
    "    df = city_only_data(df)\n",
    "    df = generate_kmh_col(df)\n",
    "    df = remove_kmh_outliers(df)\n",
    "    \n",
    "    return df"
   ]
  },
  {
   "cell_type": "code",
   "execution_count": 33,
   "metadata": {},
   "outputs": [],
   "source": [
    "def prepare_test_aim_data(df):\n",
    "    \"\"\"\n",
    "    FOR TEST AND AIM DATA ONLY\n",
    "    This function takes pd.DataFrame, removes rides outside the city, outliers, cleans data,\n",
    "    adds km/h feature, imputes its outliers.\n",
    "    Returns pd.DataFrame clean TEST or AIM dataframe.\n",
    "    \n",
    "    Parameters:\n",
    "    -----------\n",
    "    df : pd.DataFrame\n",
    "            \n",
    "    Returns:\n",
    "    --------\n",
    "    df : pd.DataFrame\n",
    "    \n",
    "    \"\"\"\n",
    "    df = city_only_data(df)\n",
    "    df = generate_kmh_col(df)\n",
    "    df = impute_kmh_outliers(df)\n",
    "    \n",
    "    return df"
   ]
  },
  {
   "attachments": {},
   "cell_type": "markdown",
   "metadata": {
    "cell_content_type": "markdown_default",
    "changed": false,
    "deletable": false,
    "editable": false,
    "original-content": "## Modeling\nKommen wir nun endlich zur Modellentwicklung, dem Herzstück dieses Projektes. Hier kannst du auch gerne zusätzliche Schritte ausprobieren und deine eigenen Ideen einfließen lassen.",
    "selectable": false
   },
   "source": [
    "## Modeling"
   ]
  },
  {
   "attachments": {},
   "cell_type": "markdown",
   "metadata": {
    "cell_content_type": "markdown_default",
    "changed": false,
    "deletable": false,
    "editable": false,
    "original-content": "### Build a simple Baselinemodel",
    "selectable": false
   },
   "source": [
    "### Build different basic models\n",
    "\n",
    "Building few basic models without any optimization, using just the basic features, to see where I am at. "
   ]
  },
  {
   "cell_type": "code",
   "execution_count": 34,
   "metadata": {
    "cell_content_type": "code_user",
    "changed": false,
    "deletable": false,
    "editable": true,
    "hint": "Wenn du willst, kannst du diese Codezelle gern im Forum unter *Testprojekt: Verkehrsaufkommen* diskutieren.",
    "original-content": "",
    "selectable": true
   },
   "outputs": [],
   "source": [
    "# TRAIN data has to be processed as follows:\n",
    "# clean_data(df)\n",
    "# sampling_data(df)\n",
    "\n",
    "# TEST data has to be processed as follows:\n",
    "# clean_data(df)\n",
    "# prepare_test_aim_data(df)\n",
    "\n",
    "df = pd.read_csv(\"data_train.csv\")\n",
    "\n",
    "df_train, df_test = train_test_split(df, test_size = 0.1, random_state = 42)\n",
    "\n",
    "# TRAIN DATA\n",
    "df_train = clean_data_train(df_train)\n",
    "df_train = sampling_data(df_train)\n",
    "\n",
    "# TEST DATA\n",
    "df_test = clean_data_test_aim(df_test)\n",
    "df_test = prepare_test_aim_data(df_test)"
   ]
  },
  {
   "cell_type": "code",
   "execution_count": 35,
   "metadata": {
    "cell_content_type": "code_user",
    "changed": false,
    "deletable": false,
    "editable": true,
    "hint": "Wenn du willst, kannst du diese Codezelle gern im Forum unter *Testprojekt: Verkehrsaufkommen* diskutieren.",
    "original-content": "",
    "selectable": true
   },
   "outputs": [
    {
     "name": "stdout",
     "output_type": "stream",
     "text": [
      "Linear Regression\n",
      "TRAIN ACCURACY:\n",
      "mean_absolute_error: 169.14299721596618\n",
      "mean_squared_error: 61357.471382163836\n",
      "r2_score: 0.2321965175305546\n",
      "TEST ACCURACY:\n",
      "mean_absolute_error: 164.39872887201528\n",
      "mean_squared_error: 58418.74142795515\n",
      "r2_score: 0.2941048414503711\n"
     ]
    }
   ],
   "source": [
    "# BASIC MODEL\n",
    "\n",
    "feat_cols = [\"pickup_longitude\", \n",
    "             \"pickup_latitude\", \n",
    "             \"dropoff_longitude\", \n",
    "             \"dropoff_latitude\",\n",
    "             \"trip_estimated\", \n",
    "             \"distance_m\", \n",
    "             \"km/h\"]\n",
    "\n",
    "features_train = df_train[feat_cols]\n",
    "target_train = df_train[\"wait_sec\"]\n",
    "\n",
    "features_test = df_test[feat_cols]\n",
    "target_test = df_test[\"wait_sec\"]\n",
    "\n",
    "scaler = StandardScaler()\n",
    "scaler.fit(features_train)\n",
    "features_train_scaled = scaler.transform(features_train)\n",
    "features_test_scaled = scaler.transform(features_test)\n",
    "\n",
    "basic_model_lin = LinearRegression()\n",
    "basic_model_lin.fit(features_train_scaled, target_train)\n",
    "target_train_pred = basic_model_lin.predict(features_train_scaled)\n",
    "target_test_pred = basic_model_lin.predict(features_test_scaled)\n",
    "\n",
    "print(f\"Linear Regression\")\n",
    "print(f\"TRAIN ACCURACY:\")\n",
    "print(f\"mean_absolute_error: {mean_absolute_error(target_train, target_train_pred)}\")\n",
    "print(f\"mean_squared_error: {mean_squared_error(target_train, target_train_pred)}\")\n",
    "print(f\"r2_score: {r2_score(target_train, target_train_pred)}\")\n",
    "print(f\"TEST ACCURACY:\")\n",
    "print(f\"mean_absolute_error: {mean_absolute_error(target_test, target_test_pred)}\")\n",
    "print(f\"mean_squared_error: {mean_squared_error(target_test, target_test_pred)}\")\n",
    "print(f\"r2_score: {r2_score(target_test, target_test_pred)}\")"
   ]
  },
  {
   "cell_type": "code",
   "execution_count": 36,
   "metadata": {},
   "outputs": [
    {
     "name": "stdout",
     "output_type": "stream",
     "text": [
      "Ridge\n",
      "TRAIN ACCURACY:\n",
      "mean_absolute_error: 169.14625697926036\n",
      "mean_squared_error: 61357.47572578351\n",
      "r2_score: 0.23219646317619091\n",
      "TEST ACCURACY:\n",
      "mean_absolute_error: 164.40361908094812\n",
      "mean_squared_error: 58422.35100401769\n",
      "r2_score: 0.29406122561400294\n"
     ]
    }
   ],
   "source": [
    "basic_model_ridge = Ridge(alpha = 1)\n",
    "basic_model_ridge.fit(features_train_scaled, target_train)\n",
    "target_train_pred = basic_model_ridge.predict(features_train_scaled)\n",
    "target_test_pred = basic_model_ridge.predict(features_test_scaled)\n",
    "\n",
    "print(f\"Ridge\")\n",
    "print(f\"TRAIN ACCURACY:\")\n",
    "print(f\"mean_absolute_error: {mean_absolute_error(target_train, target_train_pred)}\")\n",
    "print(f\"mean_squared_error: {mean_squared_error(target_train, target_train_pred)}\")\n",
    "print(f\"r2_score: {r2_score(target_train, target_train_pred)}\")\n",
    "print(f\"TEST ACCURACY:\")\n",
    "print(f\"mean_absolute_error: {mean_absolute_error(target_test, target_test_pred)}\")\n",
    "print(f\"mean_squared_error: {mean_squared_error(target_test, target_test_pred)}\")\n",
    "print(f\"r2_score: {r2_score(target_test, target_test_pred)}\")"
   ]
  },
  {
   "cell_type": "code",
   "execution_count": 37,
   "metadata": {},
   "outputs": [
    {
     "name": "stdout",
     "output_type": "stream",
     "text": [
      "Lasso\n",
      "TRAIN ACCURACY:\n",
      "mean_absolute_error: 169.5174578001115\n",
      "mean_squared_error: 61406.934832120525\n",
      "r2_score: 0.2315775511964442\n",
      "TEST ACCURACY:\n",
      "mean_absolute_error: 164.97884262786116\n",
      "mean_squared_error: 58808.766458252954\n",
      "r2_score: 0.2893920254281376\n"
     ]
    }
   ],
   "source": [
    "basic_model_lasso = Lasso(alpha = 1)\n",
    "basic_model_lasso.fit(features_train_scaled, target_train)\n",
    "target_train_pred = basic_model_lasso.predict(features_train_scaled)\n",
    "target_test_pred = basic_model_lasso.predict(features_test_scaled)\n",
    "\n",
    "print(f\"Lasso\")\n",
    "print(f\"TRAIN ACCURACY:\")\n",
    "print(f\"mean_absolute_error: {mean_absolute_error(target_train, target_train_pred)}\")\n",
    "print(f\"mean_squared_error: {mean_squared_error(target_train, target_train_pred)}\")\n",
    "print(f\"r2_score: {r2_score(target_train, target_train_pred)}\")\n",
    "print(f\"TEST ACCURACY:\")\n",
    "print(f\"mean_absolute_error: {mean_absolute_error(target_test, target_test_pred)}\")\n",
    "print(f\"mean_squared_error: {mean_squared_error(target_test, target_test_pred)}\")\n",
    "print(f\"r2_score: {r2_score(target_test, target_test_pred)}\")"
   ]
  },
  {
   "attachments": {},
   "cell_type": "markdown",
   "metadata": {
    "cell_content_type": "markdown_default",
    "changed": false,
    "deletable": false,
    "editable": false,
    "original-content": "### Feature Engineering\n\nDas Erzeugen neuer Features bietet unzählige Möglichkeiten, achte also auf deine eigene Zeit. Häufig sind gute Features aber essenziell für gute Vorhersagen. Du kannst also später, wenn du noch Zeit hast, immer weitere Ideen ausprobieren.",
    "selectable": false
   },
   "source": [
    "### Feature Engineering\n",
    "\n",
    "The dataset already offers many features. However, its good to \"engineer\" some new ones to see, if they make an impact and improve r2 score and other metrics of the model. "
   ]
  },
  {
   "cell_type": "code",
   "execution_count": 38,
   "metadata": {
    "cell_content_type": "code_user",
    "changed": false,
    "deletable": false,
    "editable": true,
    "hint": "Wenn du willst, kannst du diese Codezelle gern im Forum unter *Testprojekt: Verkehrsaufkommen* diskutieren.",
    "original-content": "",
    "selectable": true
   },
   "outputs": [
    {
     "data": {
      "text/html": [
       "<div>\n",
       "<style scoped>\n",
       "    .dataframe tbody tr th:only-of-type {\n",
       "        vertical-align: middle;\n",
       "    }\n",
       "\n",
       "    .dataframe tbody tr th {\n",
       "        vertical-align: top;\n",
       "    }\n",
       "\n",
       "    .dataframe thead th {\n",
       "        text-align: right;\n",
       "    }\n",
       "</style>\n",
       "<table border=\"1\" class=\"dataframe\">\n",
       "  <thead>\n",
       "    <tr style=\"text-align: right;\">\n",
       "      <th></th>\n",
       "      <th>vendor_id</th>\n",
       "      <th>pickup_datetime</th>\n",
       "      <th>pickup_longitude</th>\n",
       "      <th>pickup_latitude</th>\n",
       "      <th>dropoff_longitude</th>\n",
       "      <th>dropoff_latitude</th>\n",
       "      <th>trip_estimated</th>\n",
       "      <th>distance_m</th>\n",
       "      <th>wait_sec</th>\n",
       "      <th>km/h</th>\n",
       "    </tr>\n",
       "    <tr>\n",
       "      <th>id</th>\n",
       "      <th></th>\n",
       "      <th></th>\n",
       "      <th></th>\n",
       "      <th></th>\n",
       "      <th></th>\n",
       "      <th></th>\n",
       "      <th></th>\n",
       "      <th></th>\n",
       "      <th></th>\n",
       "      <th></th>\n",
       "    </tr>\n",
       "  </thead>\n",
       "  <tbody>\n",
       "    <tr>\n",
       "      <th>10198</th>\n",
       "      <td>Quito</td>\n",
       "      <td>2016-08-19 11:07:05</td>\n",
       "      <td>-78.49</td>\n",
       "      <td>-0.15</td>\n",
       "      <td>-78.49</td>\n",
       "      <td>-0.17</td>\n",
       "      <td>271</td>\n",
       "      <td>3051.50</td>\n",
       "      <td>227</td>\n",
       "      <td>40.54</td>\n",
       "    </tr>\n",
       "    <tr>\n",
       "      <th>3482</th>\n",
       "      <td>Quito</td>\n",
       "      <td>2017-01-24 08:16:53</td>\n",
       "      <td>-78.49</td>\n",
       "      <td>-0.21</td>\n",
       "      <td>-78.53</td>\n",
       "      <td>-0.24</td>\n",
       "      <td>1285</td>\n",
       "      <td>7668.89</td>\n",
       "      <td>603</td>\n",
       "      <td>21.48</td>\n",
       "    </tr>\n",
       "    <tr>\n",
       "      <th>7760</th>\n",
       "      <td>Quito</td>\n",
       "      <td>2017-07-18 10:08:14</td>\n",
       "      <td>-78.51</td>\n",
       "      <td>-0.25</td>\n",
       "      <td>-78.52</td>\n",
       "      <td>-0.25</td>\n",
       "      <td>391</td>\n",
       "      <td>2268.81</td>\n",
       "      <td>220</td>\n",
       "      <td>20.89</td>\n",
       "    </tr>\n",
       "    <tr>\n",
       "      <th>13622</th>\n",
       "      <td>Quito</td>\n",
       "      <td>2017-04-22 02:20:57</td>\n",
       "      <td>-78.49</td>\n",
       "      <td>-0.18</td>\n",
       "      <td>-78.50</td>\n",
       "      <td>-0.18</td>\n",
       "      <td>286</td>\n",
       "      <td>2839.05</td>\n",
       "      <td>44</td>\n",
       "      <td>35.74</td>\n",
       "    </tr>\n",
       "    <tr>\n",
       "      <th>7188</th>\n",
       "      <td>Quito</td>\n",
       "      <td>2016-07-08 09:36:10</td>\n",
       "      <td>-78.53</td>\n",
       "      <td>-0.25</td>\n",
       "      <td>-78.55</td>\n",
       "      <td>-0.32</td>\n",
       "      <td>1532</td>\n",
       "      <td>9679.17</td>\n",
       "      <td>621</td>\n",
       "      <td>22.74</td>\n",
       "    </tr>\n",
       "  </tbody>\n",
       "</table>\n",
       "</div>"
      ],
      "text/plain": [
       "      vendor_id     pickup_datetime  pickup_longitude  pickup_latitude  \\\n",
       "id                                                                       \n",
       "10198     Quito 2016-08-19 11:07:05            -78.49            -0.15   \n",
       "3482      Quito 2017-01-24 08:16:53            -78.49            -0.21   \n",
       "7760      Quito 2017-07-18 10:08:14            -78.51            -0.25   \n",
       "13622     Quito 2017-04-22 02:20:57            -78.49            -0.18   \n",
       "7188      Quito 2016-07-08 09:36:10            -78.53            -0.25   \n",
       "\n",
       "       dropoff_longitude  dropoff_latitude  trip_estimated  distance_m  \\\n",
       "id                                                                       \n",
       "10198             -78.49             -0.17             271     3051.50   \n",
       "3482              -78.53             -0.24            1285     7668.89   \n",
       "7760              -78.52             -0.25             391     2268.81   \n",
       "13622             -78.50             -0.18             286     2839.05   \n",
       "7188              -78.55             -0.32            1532     9679.17   \n",
       "\n",
       "       wait_sec  km/h  \n",
       "id                     \n",
       "10198       227 40.54  \n",
       "3482        603 21.48  \n",
       "7760        220 20.89  \n",
       "13622        44 35.74  \n",
       "7188        621 22.74  "
      ]
     },
     "execution_count": 38,
     "metadata": {},
     "output_type": "execute_result"
    }
   ],
   "source": [
    "df_train.head()\n",
    "\n",
    "# vendor_id - onehotencode\n",
    "# pickup_datetime - date - rainseason\n",
    "# pickup_datetime - time - minutes .... we dont know if its AM or PM, lets make simply minutes since 00...\n",
    "# pickup_datetime - weekend\n",
    "# haversine distance - how long the journey is\n",
    "# distance to center??\n",
    "# latitude diff\n",
    "# longitude diff\n"
   ]
  },
  {
   "cell_type": "code",
   "execution_count": 40,
   "metadata": {
    "cell_content_type": "code_user",
    "changed": false,
    "deletable": false,
    "editable": true,
    "hint": "Wenn du willst, kannst du diese Codezelle gern im Forum unter *Testprojekt: Verkehrsaufkommen* diskutieren.",
    "original-content": "",
    "selectable": true
   },
   "outputs": [],
   "source": [
    "def minutes_of_day(df):\n",
    "    \"\"\"\n",
    "    This function takes pd.DataFrame and creates a new column \"minutes_of_day\" based on value from \"pickup_datetime\" column.\n",
    "    Returns pd.DataFrame with new column \"minutes_of_day\" with number of minutes passed since noon \n",
    "    (or midnight, but based on data distribution it seems, that the data are PM - afternoon and evening).\n",
    "    \n",
    "    Parameters:\n",
    "    -----------\n",
    "    df : pd.DataFrame\n",
    "            \n",
    "    Returns:\n",
    "    --------\n",
    "    df : pd.DataFrame\n",
    "    \n",
    "    \"\"\"\n",
    "    df = df.copy()\n",
    "    df['minutes_of_day'] = df['pickup_datetime'].dt.hour * 60 + df['pickup_datetime'].dt.minute - 60\n",
    "    return df"
   ]
  },
  {
   "cell_type": "code",
   "execution_count": 41,
   "metadata": {
    "cell_content_type": "code_user",
    "changed": false,
    "deletable": false,
    "editable": true,
    "hint": "Wenn du willst, kannst du diese Codezelle gern im Forum unter *Testprojekt: Verkehrsaufkommen* diskutieren.",
    "original-content": "",
    "selectable": true
   },
   "outputs": [],
   "source": [
    "def is_weekend(df):\n",
    "    \"\"\"\n",
    "    This function takes pd.DataFrame and creates a new column \"is_weekend\" based on value from \"pickup_datetime\" column.\n",
    "    Returns pd.DataFrame with new column \"is_weekend\" with values 0 (ride takes place from Monday to Friday)\n",
    "    and 1 (ride takes place on Saturday or Sunday).\n",
    "    \n",
    "    Parameters:\n",
    "    -----------\n",
    "    df : pd.DataFrame\n",
    "            \n",
    "    Returns:\n",
    "    --------\n",
    "    df : pd.DataFrame\n",
    "    \n",
    "    \"\"\"\n",
    "    df = df.copy()\n",
    "    df['is_weekend'] = (df['pickup_datetime'].dt.dayofweek // 5 == 1).astype(int)\n",
    "    return df"
   ]
  },
  {
   "cell_type": "code",
   "execution_count": 42,
   "metadata": {
    "cell_content_type": "code_user",
    "changed": false,
    "deletable": false,
    "editable": true,
    "hint": "Wenn du willst, kannst du diese Codezelle gern im Forum unter *Testprojekt: Verkehrsaufkommen* diskutieren.",
    "original-content": "",
    "selectable": true
   },
   "outputs": [],
   "source": [
    "def is_rainy_season(df):\n",
    "    \"\"\"\n",
    "    This function takes pd.DataFrame and creates a new column \"is_rainy_season\" based on value from \"pickup_datetime\" column.\n",
    "    Returns pd.DataFrame with new column \"is_rainy_season\" with values 0 (the month is June to September)\n",
    "    and 1 (ride takes place in rainy season - October to May).\n",
    "    \n",
    "    Parameters:\n",
    "    -----------\n",
    "    df : pd.DataFrame\n",
    "            \n",
    "    Returns:\n",
    "    --------\n",
    "    df : pd.DataFrame\n",
    "    \n",
    "    \"\"\"\n",
    "    df = df.copy()\n",
    "    df['is_rainy_season'] = df['pickup_datetime'].dt.month.map(lambda x: 1 if x in range(10,13) or x in range(1,6) else 0)\n",
    "    return df"
   ]
  },
  {
   "cell_type": "code",
   "execution_count": 47,
   "metadata": {
    "cell_content_type": "code_user",
    "changed": false,
    "deletable": false,
    "editable": true,
    "hint": "Wenn du willst, kannst du diese Codezelle gern im Forum unter *Testprojekt: Verkehrsaufkommen* diskutieren.",
    "original-content": "",
    "selectable": true
   },
   "outputs": [],
   "source": [
    "def process_pickup_datetime(df):\n",
    "    \"\"\"\n",
    "    This function takes pd.DataFrame and runs it through the minutes_of_day(), is_weekend() and is_rainy_season() functions.\n",
    "    Returns pd.DataFrame with new features. The original column \"pickup_datetime\" is dropped.\n",
    "    \n",
    "    Parameters:\n",
    "    -----------\n",
    "    df : pd.DataFrame\n",
    "            \n",
    "    Returns:\n",
    "    --------\n",
    "    df : pd.DataFrame\n",
    "    \n",
    "    \"\"\"\n",
    "    df = df.copy()\n",
    "    df = minutes_of_day(df)\n",
    "    df = is_weekend(df)\n",
    "    df = is_rainy_season(df)\n",
    "    df = df.drop(\"pickup_datetime\", axis = 1)\n",
    "    return df"
   ]
  },
  {
   "cell_type": "code",
   "execution_count": 426,
   "metadata": {
    "cell_content_type": "code_user",
    "changed": false,
    "deletable": false,
    "editable": true,
    "hint": "Wenn du willst, kannst du diese Codezelle gern im Forum unter *Testprojekt: Verkehrsaufkommen* diskutieren.",
    "original-content": "",
    "selectable": true
   },
   "outputs": [],
   "source": [
    "def onehot_vendor(df):\n",
    "    # DONT USE THIS FUNCTION, CREATES ERRORS\n",
    "    \"\"\"\n",
    "    This function takes pd.DataFrame and encodes the \"vendor_id\" column with onehotencoder.\n",
    "    Returns pd.DataFrame with new columns (with 0/1 values) and without the original \"vector_id\" column.\n",
    "    \n",
    "    Parameters:\n",
    "    -----------\n",
    "    df : pd.DataFrame\n",
    "            \n",
    "    Returns:\n",
    "    --------\n",
    "    df : pd.DataFrame\n",
    "    \n",
    "    \"\"\"\n",
    "    df = df.copy()\n",
    "    ohe = OneHotEncoder()\n",
    "    one_hot_encoded = ohe.fit_transform(df[['vendor_id']])\n",
    "    one_hot_encoded_array = one_hot_encoded.toarray()\n",
    "    one_hot_df = pd.DataFrame(one_hot_encoded_array, columns=ohe.get_feature_names(['vendor_id']))\n",
    "    df = pd.merge(df, one_hot_df, left_index=True, right_index=True)\n",
    "    df = df.drop('vendor_id', axis=1)\n",
    "\n",
    "    return df    \n",
    "\n",
    "def vendor(df):\n",
    "    \"\"\"\n",
    "    This function takes pd.DataFrame and creates the \"Quito\" column.\n",
    "    Returns pd.DataFrame with \"Quito\" column with value 1 (Quito) or value 0 (all other vendors).\n",
    "    \n",
    "    Parameters:\n",
    "    -----------\n",
    "    df : pd.DataFrame\n",
    "            \n",
    "    Returns:\n",
    "    --------\n",
    "    df : pd.DataFrame\n",
    "    \n",
    "    \"\"\"\n",
    "    df = df.copy()\n",
    "    vendor = (df.vendor_id == 'Quito').astype(int)\n",
    "    vendor = vendor.astype(float)\n",
    "    df['Quito'] = vendor\n",
    "    df = df.drop(['vendor_id'], axis=1)\n",
    "\n",
    "    return df  "
   ]
  },
  {
   "cell_type": "code",
   "execution_count": 428,
   "metadata": {
    "cell_content_type": "code_user",
    "changed": false,
    "deletable": false,
    "editable": true,
    "hint": "Wenn du willst, kannst du diese Codezelle gern im Forum unter *Testprojekt: Verkehrsaufkommen* diskutieren.",
    "original-content": "",
    "selectable": true
   },
   "outputs": [],
   "source": [
    "def haversine(lon1, lat1, lon2, lat2):\n",
    "    \"\"\"\n",
    "    Calculate the great circle distance between two points \n",
    "    on the earth (specified in decimal degrees)\n",
    "    \n",
    "    Args: \n",
    "        lon1 (float) : longitude from start location\n",
    "        lat1 (float) : latitude from start location\n",
    "        lon2 (float) : longitude from end location\n",
    "        lat2 (float) : longitude from end location\n",
    "    \n",
    "    Returns:\n",
    "        float: distance between two points on earth\n",
    "    \"\"\"\n",
    "    R = 6371.0  # radius of Earth in kilometers\n",
    "    \n",
    "    dlat = radians(lat2 - lat1)\n",
    "    dlon = radians(lon2 - lon1)\n",
    "    \n",
    "    a = sin(dlat / 2)**2 + cos(radians(lat1)) * cos(radians(lat2)) * sin(dlon / 2)**2\n",
    "    c = 2 * atan2(sqrt(a), sqrt(1 - a))\n",
    "    \n",
    "    return R * c"
   ]
  },
  {
   "cell_type": "code",
   "execution_count": 413,
   "metadata": {
    "cell_content_type": "code_user",
    "changed": false,
    "deletable": false,
    "editable": true,
    "hint": "Wenn du willst, kannst du diese Codezelle gern im Forum unter *Testprojekt: Verkehrsaufkommen* diskutieren.",
    "original-content": "",
    "selectable": true
   },
   "outputs": [],
   "source": [
    "def process_lat_lon_cols(df):\n",
    "    \"\"\"\n",
    "    This function takes pd.DataFrame and creates new features based on pickup/dropoff latitude/longitude columns.\n",
    "    Returns pd.DataFrame with following new columns: \"pickup_distance_to_center\", \n",
    "    \"dropoff_distance_to_center\" and \"to_center\".\n",
    "    \n",
    "    Parameters:\n",
    "    -----------\n",
    "    df : pd.DataFrame\n",
    "            \n",
    "    Returns:\n",
    "    --------\n",
    "    df : pd.DataFrame\n",
    "    \n",
    "    \"\"\"\n",
    "    quito_center = (-0.175, -78.5)\n",
    "    \n",
    "    df[\"pickup_distance_to_center\"] = (df[['pickup_latitude', 'pickup_longitude']].\n",
    "                                       apply(lambda x: haversine(x[1], \n",
    "                                                                 x[0], \n",
    "                                                                 quito_center[1], \n",
    "                                                                 quito_center[0]), \n",
    "                                             axis=1))\n",
    "\n",
    "    df[\"dropoff_distance_to_center\"] = (df[['dropoff_latitude','dropoff_longitude']]\n",
    "                                          .apply(lambda x: haversine(x[1], \n",
    "                                                                     x[0], \n",
    "                                                                     quito_center[1], \n",
    "                                                                     quito_center[0]),\n",
    "                                                 axis=1))\n",
    "    df[\"to_center\"] = (df[\"pickup_distance_to_center\"] > df[\"dropoff_distance_to_center\"]).astype(int)\n",
    "    \n",
    "\n",
    "    return df"
   ]
  },
  {
   "cell_type": "code",
   "execution_count": 243,
   "metadata": {
    "cell_content_type": "code_user",
    "changed": false,
    "deletable": false,
    "editable": true,
    "hint": "Wenn du willst, kannst du diese Codezelle gern im Forum unter *Testprojekt: Verkehrsaufkommen* diskutieren.",
    "original-content": "",
    "selectable": true
   },
   "outputs": [],
   "source": [
    "# TRAIN data has to be processed as follows:\n",
    "# clean_data_train(df)\n",
    "# sampling_data(df)\n",
    "# process_pickup_datetime(df)\n",
    "# vendor(df)\n",
    "# process_lat_lon_cols(df)\n",
    "\n",
    "# TEST data has to be processed as follows:\n",
    "# clean_data_test_aim(df)\n",
    "# prepare_test_aim_data(df)\n",
    "# process_pickup_datetime(df)\n",
    "# vendor(df)\n",
    "# process_lat_lon_cols(df)"
   ]
  },
  {
   "cell_type": "code",
   "execution_count": 445,
   "metadata": {
    "cell_content_type": "code_user",
    "changed": false,
    "deletable": false,
    "editable": true,
    "hint": "Wenn du willst, kannst du diese Codezelle gern im Forum unter *Testprojekt: Verkehrsaufkommen* diskutieren.",
    "original-content": "",
    "selectable": true
   },
   "outputs": [],
   "source": [
    "df = pd.read_csv(\"data_train.csv\")\n",
    "\n",
    "df_train, df_test = train_test_split(df, test_size = 0.1, random_state = 42)\n",
    "\n",
    "# TRAIN DATA\n",
    "\n",
    "df_train = clean_data_train(df_train)\n",
    "df_train = sampling_data(df_train)\n",
    "df_train = process_pickup_datetime(df_train)\n",
    "df_train = vendor(df_train)\n",
    "df_train = process_lat_lon_cols(df_train)\n",
    "\n",
    "# TEST DATA\n",
    "\n",
    "df_test = clean_data_test_aim(df_test)\n",
    "df_test = prepare_test_aim_data(df_test)\n",
    "df_test = process_pickup_datetime(df_test)\n",
    "df_test = vendor(df_test)\n",
    "df_test = process_lat_lon_cols(df_test)"
   ]
  },
  {
   "cell_type": "code",
   "execution_count": 253,
   "metadata": {
    "cell_content_type": "code_user",
    "changed": false,
    "deletable": false,
    "editable": true,
    "hint": "Wenn du willst, kannst du diese Codezelle gern im Forum unter *Testprojekt: Verkehrsaufkommen* diskutieren.",
    "original-content": "",
    "selectable": true
   },
   "outputs": [],
   "source": [
    "feat_cols = [\"pickup_longitude\", \n",
    "             \"pickup_latitude\", \n",
    "             \"dropoff_longitude\", \n",
    "             \"dropoff_latitude\",\n",
    "             \"trip_estimated\", \n",
    "             \"distance_m\", \n",
    "             \"km/h\",\n",
    "             \"minutes_of_day\", \n",
    "             \"is_weekend\", \n",
    "             \"is_rainy_season\", \n",
    "             \"vendor_id_Quito\", \n",
    "             \"vendor_id_Quito Cabify Executive\", \n",
    "             \"vendor_id_Quito Cabify Lite\", \n",
    "             \"pickup_distance_to_center\", \n",
    "             \"dropoff_distance_to_center\", \n",
    "             \"to_center\"\n",
    "            ]"
   ]
  },
  {
   "attachments": {},
   "cell_type": "markdown",
   "metadata": {
    "cell_content_type": "markdown_selectable",
    "changed": false,
    "deletable": false,
    "editable": true,
    "original-content": "### Train model\n\n- Nutze deine bisherigen Erkenntnisse, um ein Modell zu erzeugen. Du hast im Training folgende Regressions-Modelle kennengelernt:\n    * `sklearn.linear_model.LinearRegression` (siehe *Einfache lineare Regression mit sklearn (Modul 1, Kapitel 1)*)\n    * `sklearn.linear_model.Ridge` (siehe *Regularisierung (Modul 1, Kapitel 1)*)\n    * `sklearn.linear_model.Lasso` (siehe *Regularisierung (Modul 1, Kapitel 1)*)\n    * `sklearn.preprocessing.PolynomialFeatures` für polynomiale Regression (siehe *Polynomiale Regression (Modul 1, Kapitel 4)*)\n    * `sklearn.linear_model.RANSACRegressor` für ein Regressionsmodell, welches sich kaum durch Ausreißer beeinflussen lässt (siehe *Robuste Regression (Modul 1, Kapitel 5)*)\n- Validiere dein Modell. Dabei können dir folgende Objekte weiterhelfen:\n    * `sklearn.pipeline.Pipeline` (siehe *Kreuzvalidierung mit Pipelines (Modul 1, Kapitel 1)*)\n    * `sklearn.model_selection.KFold` (siehe *Modelle validieren mit Kreuzvalidierung (Modul 1, Kapitel 1)*)\n    * `sklearn.model_selection.cross_val_score()` (siehe *Kreuzvalidierung mit Pipelines (Modul 1, Kapitel 1)*)\n    * `sklearn.model_selection.validation_curve()` (siehe *Gittersuche (Modul 1, Kapitel 1)*)\n    * `sklearn.model_selection.GridSearchCV` (siehe *Gittersuche (Modul 1, Kapitel 1)*)\n- Welche Metrik eignet sich deiner Meinung nach? Diese Modellgütemaße für Regressionsmodelle hast du kennengelernt:\n    * `sklearn.metrics.mean_squared_error()` (siehe *Modellgüte von Regressionsmodellen (Modul 1, Kapitel 1)*)\n    * `sklearn.metrics.r2_score()` (siehe *Modellgüte von Regressionsmodellen (Modul 1, Kapitel 1)*)\n    * `sklearn.metrics.mean_absolute_error()` (siehe *Hauptkomponentenanalyse als Teil der Datenpipeline (Modul 1, Kapitel 4)*)\n\nDas Bauen eines Modells ist ein iterativer Prozess. Teste ruhig verschiedene Modelltypen und Featurekombinationen aus. Denke ebenfalls daran, die Hyperparameter zu optimieren.",
    "selectable": true
   },
   "source": [
    "### Train different optimized models"
   ]
  },
  {
   "cell_type": "code",
   "execution_count": 254,
   "metadata": {
    "cell_content_type": "code_user",
    "changed": false,
    "deletable": false,
    "editable": true,
    "hint": "Wenn du willst, kannst du diese Codezelle gern im Forum unter *Testprojekt: Verkehrsaufkommen* diskutieren.",
    "original-content": "",
    "selectable": true
   },
   "outputs": [],
   "source": [
    "features_train = df_train[feat_cols]\n",
    "target_train = df_train[\"wait_sec\"]\n",
    "\n",
    "features_test = df_test[feat_cols]\n",
    "target_test = df_test[\"wait_sec\"]\n",
    "\n",
    "scaler = StandardScaler()\n",
    "scaler.fit(features_train)\n",
    "features_train_scaled = scaler.transform(features_train)\n",
    "features_test_scaled = scaler.transform(features_test)"
   ]
  },
  {
   "attachments": {},
   "cell_type": "markdown",
   "metadata": {},
   "source": [
    "### LINEAR REGRESSION"
   ]
  },
  {
   "cell_type": "code",
   "execution_count": 283,
   "metadata": {
    "cell_content_type": "code_user",
    "changed": false,
    "deletable": false,
    "editable": true,
    "hint": "Wenn du willst, kannst du diese Codezelle gern im Forum unter *Testprojekt: Verkehrsaufkommen* diskutieren.",
    "original-content": "",
    "selectable": true
   },
   "outputs": [
    {
     "name": "stdout",
     "output_type": "stream",
     "text": [
      "Linear Regression\n",
      "TRAIN ACCURACY:\n",
      "mean_absolute_error: 161.5825165152513\n",
      "mean_squared_error: 57399.01021147026\n",
      "r2_score: 0.27143657037340785\n",
      "TEST ACCURACY:\n",
      "mean_absolute_error: 155.94444391045818\n",
      "mean_squared_error: 46681.633769368316\n",
      "r2_score: 0.46602599210589934\n"
     ]
    }
   ],
   "source": [
    "# LINEAR REGRESSION\n",
    "\n",
    "basic_model_lin = LinearRegression()\n",
    "basic_model_lin.fit(features_train_scaled, target_train)\n",
    "target_train_pred = basic_model_lin.predict(features_train_scaled)\n",
    "target_test_pred = basic_model_lin.predict(features_test_scaled)\n",
    "\n",
    "print(f\"Linear Regression\")\n",
    "print(f\"TRAIN ACCURACY:\")\n",
    "print(f\"mean_absolute_error: {mean_absolute_error(target_train, target_train_pred)}\")\n",
    "print(f\"mean_squared_error: {mean_squared_error(target_train, target_train_pred)}\")\n",
    "print(f\"r2_score: {r2_score(target_train, target_train_pred)}\")\n",
    "print(f\"TEST ACCURACY:\")\n",
    "print(f\"mean_absolute_error: {mean_absolute_error(target_test, target_test_pred)}\")\n",
    "print(f\"mean_squared_error: {mean_squared_error(target_test, target_test_pred)}\")\n",
    "print(f\"r2_score: {r2_score(target_test, target_test_pred)}\")"
   ]
  },
  {
   "attachments": {},
   "cell_type": "markdown",
   "metadata": {},
   "source": [
    "### RIDGE"
   ]
  },
  {
   "cell_type": "code",
   "execution_count": 282,
   "metadata": {
    "cell_content_type": "code_user",
    "changed": false,
    "deletable": false,
    "editable": true,
    "hint": "Wenn du willst, kannst du diese Codezelle gern im Forum unter *Testprojekt: Verkehrsaufkommen* diskutieren.",
    "original-content": "",
    "selectable": true
   },
   "outputs": [
    {
     "name": "stdout",
     "output_type": "stream",
     "text": [
      "Fitting 5 folds for each of 8 candidates, totalling 40 fits\n",
      "-161.89470313570894\n",
      "{'ridge__alpha': 0.001}\n",
      "TRAIN ACCURACY:\n",
      "mean_absolute_error: 161.58251974803792\n",
      "mean_squared_error: 57399.010211476234\n",
      "r2_score: 0.271436570373332\n",
      "TEST ACCURACY:\n",
      "mean_absolute_error: 155.94445205901434\n",
      "mean_squared_error: 46681.64089257213\n",
      "r2_score: 0.4660259106261956\n"
     ]
    }
   ],
   "source": [
    "# RIDGE\n",
    "\n",
    "pipe = Pipeline([(\"scaler\", StandardScaler()), \n",
    "                 (\"ridge\", Ridge(random_state = 42))])\n",
    "search_space = {\"ridge__alpha\" : [0.0, 0.001, 0.01, 0.1, 1, 10, 100, 1000]}\n",
    "ridge_GS = GridSearchCV(estimator = pipe, \n",
    "                        param_grid = search_space, \n",
    "                        scoring = \"neg_mean_absolute_error\", \n",
    "                        n_jobs = -1, \n",
    "                        cv = 5, \n",
    "                        verbose = 4)\n",
    "ridge_GS.fit(features_train, target_train)\n",
    "print(ridge_GS.best_score_)\n",
    "print(ridge_GS.best_params_)\n",
    "print(f\"TRAIN ACCURACY:\")\n",
    "print(f\"mean_absolute_error: {mean_absolute_error(target_train, ridge_GS.predict(features_train))}\")\n",
    "print(f\"mean_squared_error: {mean_squared_error(target_train, ridge_GS.predict(features_train))}\")\n",
    "print(f\"r2_score: {r2_score(target_train, ridge_GS.predict(features_train))}\")\n",
    "print(f\"TEST ACCURACY:\")\n",
    "print(f\"mean_absolute_error: {mean_absolute_error(target_test, ridge_GS.predict(features_test))}\")\n",
    "print(f\"mean_squared_error: {mean_squared_error(target_test, ridge_GS.predict(features_test))}\")\n",
    "print(f\"r2_score: {r2_score(target_test, ridge_GS.predict(features_test))}\")"
   ]
  },
  {
   "attachments": {},
   "cell_type": "markdown",
   "metadata": {},
   "source": [
    "### LASSO"
   ]
  },
  {
   "cell_type": "code",
   "execution_count": null,
   "metadata": {
    "cell_content_type": "code_user",
    "changed": false,
    "deletable": false,
    "editable": true,
    "hint": "Wenn du willst, kannst du diese Codezelle gern im Forum unter *Testprojekt: Verkehrsaufkommen* diskutieren.",
    "original-content": "",
    "selectable": true
   },
   "outputs": [
    {
     "name": "stdout",
     "output_type": "stream",
     "text": [
      "Fitting 5 folds for each of 8 candidates, totalling 40 fits\n"
     ]
    },
    {
     "name": "stderr",
     "output_type": "stream",
     "text": [
      "/home/jovyan/.virtualenvs/training_env/lib/python3.8/site-packages/sklearn/pipeline.py:346: UserWarning: With alpha=0, this algorithm does not converge well. You are advised to use the LinearRegression estimator\n",
      "  self._final_estimator.fit(Xt, y, **fit_params_last_step)\n",
      "/home/jovyan/.virtualenvs/training_env/lib/python3.8/site-packages/sklearn/linear_model/_coordinate_descent.py:530: UserWarning: Coordinate descent with no regularization may lead to unexpected results and is discouraged.\n",
      "  model = cd_fast.enet_coordinate_descent(\n"
     ]
    },
    {
     "name": "stdout",
     "output_type": "stream",
     "text": [
      "-161.8946993930179\n",
      "{'lasso__alpha': 0.0}\n",
      "TRAIN ACCURACY:\n",
      "mean_absolute_error: 161.58251651525129\n",
      "mean_squared_error: 57399.01021147026\n",
      "r2_score: 0.27143657037340785\n",
      "TEST ACCURACY:\n",
      "mean_absolute_error: 155.94444391045818\n",
      "mean_squared_error: 46681.633769368316\n",
      "r2_score: 0.46602599210589934\n"
     ]
    },
    {
     "name": "stderr",
     "output_type": "stream",
     "text": [
      "/home/jovyan/.virtualenvs/training_env/lib/python3.8/site-packages/sklearn/linear_model/_coordinate_descent.py:530: ConvergenceWarning: Objective did not converge. You might want to increase the number of iterations. Duality gap: 344910652.36072475, tolerance: 94682.39506270595\n",
      "  model = cd_fast.enet_coordinate_descent(\n"
     ]
    }
   ],
   "source": [
    "# LASSO\n",
    "\n",
    "pipe = Pipeline([(\"scaler\", StandardScaler()), \n",
    "                 (\"lasso\", Lasso(random_state = 42))])\n",
    "search_space = {\"lasso__alpha\" : [0.0, 0.001, 0.01, 0.1, 1, 10, 100, 1000]}\n",
    "lasso_GS = GridSearchCV(estimator = pipe, \n",
    "                        param_grid = search_space, \n",
    "                        scoring = \"neg_mean_absolute_error\",\n",
    "                        n_jobs = -1, \n",
    "                        cv = 5, \n",
    "                        verbose = 4)\n",
    "lasso_GS.fit(features_train, target_train)\n",
    "print(lasso_GS.best_score_)\n",
    "print(lasso_GS.best_params_)\n",
    "print(f\"TRAIN ACCURACY:\")\n",
    "print(f\"mean_absolute_error: {mean_absolute_error(target_train, lasso_GS.predict(features_train))}\")\n",
    "print(f\"mean_squared_error: {mean_squared_error(target_train, lasso_GS.predict(features_train))}\")\n",
    "print(f\"r2_score: {r2_score(target_train, lasso_GS.predict(features_train))}\")\n",
    "print(f\"TEST ACCURACY:\")\n",
    "print(f\"mean_absolute_error: {mean_absolute_error(target_test, lasso_GS.predict(features_test))}\")\n",
    "print(f\"mean_squared_error: {mean_squared_error(target_test, lasso_GS.predict(features_test))}\")\n",
    "print(f\"r2_score: {r2_score(target_test, lasso_GS.predict(features_test))}\")"
   ]
  },
  {
   "attachments": {},
   "cell_type": "markdown",
   "metadata": {
    "cell_content_type": "markdown_default",
    "changed": false,
    "deletable": false,
    "editable": false,
    "original-content": "### Model selection",
    "selectable": false
   },
   "source": [
    "### Model selection"
   ]
  },
  {
   "cell_type": "code",
   "execution_count": 448,
   "metadata": {
    "cell_content_type": "code_user",
    "changed": false,
    "deletable": false,
    "editable": true,
    "hint": "Wenn du willst, kannst du diese Codezelle gern im Forum unter *Testprojekt: Verkehrsaufkommen* diskutieren.",
    "original-content": "",
    "selectable": true
   },
   "outputs": [],
   "source": [
    "# all three models were very close, but LINEAR REGRESSION had the best results by a very small margin\n",
    "df_train_full = pd.read_csv(\"data_train.csv\")\n",
    "\n",
    "feat_cols = [\"pickup_longitude\", \n",
    "                 \"pickup_latitude\", \n",
    "                 \"dropoff_longitude\", \n",
    "                 \"dropoff_latitude\",\n",
    "                 \"trip_estimated\", \n",
    "                 \"distance_m\", \n",
    "                 \"km/h\",\n",
    "                 \"minutes_of_day\", \n",
    "                 \"is_weekend\", \n",
    "                 \"is_rainy_season\", \n",
    "                 \"Quito\",\n",
    "                 \"pickup_distance_to_center\", \n",
    "                 \"dropoff_distance_to_center\", \n",
    "                 \"to_center\"]\n",
    "\n",
    "df_train_full = clean_data_train(df_train_full)\n",
    "df_train_full = sampling_data(df_train_full)\n",
    "df_train_full = process_pickup_datetime(df_train_full)\n",
    "df_train_full = vendor(df_train_full)\n",
    "df_train_full = process_lat_lon_cols(df_train_full)\n",
    "\n",
    "features_train_full = df_train_full[feat_cols]\n",
    "target_train_full = df_train_full[\"wait_sec\"]\n",
    "\n",
    "scaler_final = StandardScaler()\n",
    "scaler_final.fit(features_train_full)\n",
    "features_train_full_scaled = scaler_final.transform(features_train_full)\n",
    "\n",
    "basic_model_lin = LinearRegression()\n",
    "basic_model_lin.fit(features_train_full_scaled, target_train_full)\n",
    "target_train_full_pred = basic_model_lin.predict(features_train_full_scaled)\n",
    "\n",
    "pickle.dump(basic_model_lin, open('best_model.p', 'wb'))"
   ]
  },
  {
   "attachments": {},
   "cell_type": "markdown",
   "metadata": {
    "cell_content_type": "markdown_selectable",
    "changed": false,
    "deletable": false,
    "editable": true,
    "original-content": "## Die finale Datenpipeline\n\nNun hast du alle Schritte abgeschlossen. Jetzt ist es an der Zeit, sie in einer Funktion zu kombinieren, welche neue Daten aus einer *csv*-Datei ausliest und anschließend eine Vorhersage für jeden Datenpunkt ausgibt. Wende hier auch nochmal die notwendigen Funktionen auf dein  *features_test.csv* und *feautures_aim.csv* am. Beachte, dass Sampling bei den Testsets nicht angewendet werden sollte. Nutze folgendes Muster:\n\n```python\ndef predict_wait_sec(csv_file, model):\n    \"\"\"Estimate waiting time in seconds for taxi-rides in the Quito area.\n    \n    Args:\n        csv_file (str): Path of the incoming data csv file holding the following columns;\n           '', 'id', 'vendor_id', 'pickup_datetime', 'dropoff_datetime',\n           'pickup_longitude', 'pickup_latitude', 'dropoff_longitude',\n           'dropoff_latitude', 'store_and_fwd_flag', 'trip_estimated', 'distance_m'\n        model (model): The trained model.\n    \n    Returns:\n        numpyArray: Estimated waiting time [seconds]\n    \"\"\"\n```",
    "selectable": true
   },
   "source": [
    "## The Final DataPipeline\n",
    "\n",
    "All the necessary functions have been created and now it's time to combine them into a function that reads new data from a *csv* file and then outputs a prediction for each data point. "
   ]
  },
  {
   "cell_type": "code",
   "execution_count": 449,
   "metadata": {
    "cell_content_type": "code_user",
    "changed": false,
    "deletable": false,
    "editable": true,
    "hint": "Wenn du willst, kannst du diese Codezelle gern im Forum unter *Testprojekt: Verkehrsaufkommen* diskutieren.",
    "original-content": "",
    "selectable": true
   },
   "outputs": [],
   "source": [
    "def predict_wait_sec(csv_file, model):\n",
    "    \"\"\"Estimate waiting time in seconds for taxi-rides in the Quito area.\n",
    "    \n",
    "    Args:\n",
    "        csv_file (str): Path of the incoming data csv file holding the following columns;\n",
    "           '', 'id', 'vendor_id', 'pickup_datetime', 'dropoff_datetime',\n",
    "           'pickup_longitude', 'pickup_latitude', 'dropoff_longitude',\n",
    "           'dropoff_latitude', 'store_and_fwd_flag', 'trip_estimated', 'distance_m'\n",
    "        model (model): The trained model.\n",
    "    \n",
    "    Returns:\n",
    "        numpyArray: Estimated waiting time [seconds]\n",
    "    \"\"\"\n",
    "    df = pd.read_csv(csv_file)\n",
    "\n",
    "    df = clean_data_test_aim(df)\n",
    "    df = sampling_data(df)\n",
    "    df = process_pickup_datetime(df)\n",
    "    df = vendor(df)\n",
    "    df = process_lat_lon_cols(df)\n",
    "\n",
    "    feat_cols = [\"pickup_longitude\", \n",
    "                 \"pickup_latitude\", \n",
    "                 \"dropoff_longitude\", \n",
    "                 \"dropoff_latitude\",\n",
    "                 \"trip_estimated\", \n",
    "                 \"distance_m\", \n",
    "                 \"km/h\",\n",
    "                 \"minutes_of_day\", \n",
    "                 \"is_weekend\", \n",
    "                 \"is_rainy_season\", \n",
    "                 \"Quito\",\n",
    "                 \"pickup_distance_to_center\", \n",
    "                 \"dropoff_distance_to_center\", \n",
    "                 \"to_center\"]\n",
    "    \n",
    "    features = df[feat_cols]\n",
    "\n",
    "    scaler = StandardScaler()\n",
    "    scaler.fit(features)\n",
    "    features_scaled = scaler.transform(features)\n",
    "    \n",
    "    target_pred = model.predict(features_scaled)\n",
    "    \n",
    "    return target_pred\n",
    "\n",
    "model = pickle.load(open('best_model.p', 'rb'))\n",
    "target_pred = predict_wait_sec(\"data_train.csv\", model)"
   ]
  },
  {
   "attachments": {},
   "cell_type": "markdown",
   "metadata": {
    "cell_content_type": "markdown_selectable",
    "changed": false,
    "deletable": false,
    "editable": true,
    "original-content": "Verwende nun deine Funktion, um vollautomatisch eine Vorhersage für die Daten in *features_test.csv* zu erhalten. Bestimme im Anschluss den R2-Wert und den MAE deiner Vorhersagen (springe zurück zum Train-Test-Split, um zu sehen welchen Namen du `target_test` gegeben hast). Zum Vergleich - eine einfache lineare Regression mit wenigen Features aber Ausreißer-Entfernung lieferte die folgenden Scores:\n* R2: 0,08\n* MAE: 164,09\n\n \nDiese sind nicht besonders überragend, aber ein durchschnittlicher Fehler von weniger als 3 Minuten ist für einen Prototypen nicht so verkehrt. Kannst du diesen Wert unterbieten?",
    "selectable": true
   },
   "source": [
    "Now its time to use the function to get a prediction for the data in *features_test.csv*. Then we have to determine the R2 value and the MAE of thepredictions."
   ]
  },
  {
   "cell_type": "code",
   "execution_count": 451,
   "metadata": {
    "cell_content_type": "code_user",
    "changed": false,
    "deletable": false,
    "editable": true,
    "hint": "Wenn du willst, kannst du diese Codezelle gern im Forum unter *Testprojekt: Verkehrsaufkommen* diskutieren.",
    "original-content": "",
    "selectable": true
   },
   "outputs": [
    {
     "name": "stdout",
     "output_type": "stream",
     "text": [
      "mean_absolute_error: 161.80208265765543\n",
      "mean_squared_error: 57859.923486293745\n",
      "r2_score: 0.2763331543209211\n"
     ]
    }
   ],
   "source": [
    "df = pd.read_csv(\"data_train.csv\")\n",
    "\n",
    "df = clean_data_test_aim(df)\n",
    "df = sampling_data(df)\n",
    "df = process_pickup_datetime(df)\n",
    "df = vendor(df)\n",
    "df = process_lat_lon_cols(df)\n",
    "target = df[\"wait_sec\"]\n",
    "\n",
    "print(f\"mean_absolute_error: {mean_absolute_error(target, target_pred)}\")\n",
    "print(f\"mean_squared_error: {mean_squared_error(target, target_pred)}\")\n",
    "print(f\"r2_score: {r2_score(target, target_pred)}\")"
   ]
  },
  {
   "attachments": {},
   "cell_type": "markdown",
   "metadata": {
    "cell_content_type": "markdown_default",
    "changed": false,
    "deletable": false,
    "editable": false,
    "original-content": "## Abschluss des Projekts",
    "selectable": false
   },
   "source": [
    "## Completion of the project\n",
    "\n",
    "Make final prediction."
   ]
  },
  {
   "cell_type": "code",
   "execution_count": 453,
   "metadata": {
    "cell_content_type": "code_user",
    "changed": false,
    "deletable": false,
    "editable": true,
    "hint": "Wenn du willst, kannst du diese Codezelle gern im Forum unter *Testprojekt: Verkehrsaufkommen* diskutieren.",
    "original-content": "",
    "selectable": true
   },
   "outputs": [
    {
     "name": "stdout",
     "output_type": "stream",
     "text": [
      "mean_absolute_error: 157.41120806802593\n",
      "mean_squared_error: 53554.344196619095\n",
      "r2_score: 0.3040957563457536\n"
     ]
    }
   ],
   "source": [
    "# make predictions on features_aim.csv\n",
    "model = pickle.load(open('best_model.p', 'rb'))\n",
    "#target_pred = predict_wait_sec(\"data_train.csv\", model)\n",
    "\n",
    "#predict\n",
    "y_pred = predict_wait_sec('features_aim.csv', model)\n",
    "target_aim = pd.read_csv('target_aim.csv')\n",
    "\n",
    "#evaluate:\n",
    "print(f\"mean_absolute_error: {mean_absolute_error(target_aim, y_pred)}\")\n",
    "print(f\"mean_squared_error: {mean_squared_error(target_aim, y_pred)}\")\n",
    "print(f\"r2_score: {r2_score(target_aim, y_pred)}\")"
   ]
  },
  {
   "attachments": {},
   "cell_type": "markdown",
   "metadata": {
    "cell_content_type": "markdown_default",
    "changed": false,
    "deletable": false,
    "editable": false,
    "original-content": "***\nHast du eine Frage zu dieser Übung? Schau ins Forum, ob sie bereits gestellt und beantwortet wurde.\n***\nFehler gefunden? Kontaktiere den Support unter support@stackfuel.com .\n***\nDie Daten wurden von Mario Navas [hier](https://www.kaggle.com/mnavas/taxi-routes-for-mexico-city-and-quito) unter der Lizenz CC BY-SA 4.0 veröffentlicht. Sie wurden für das Projekt leicht verändert.",
    "selectable": false
   },
   "source": [
    "The project is completed!"
   ]
  }
 ],
 "metadata": {
  "content_id": "884caa89-3545-4cbd-ae0e-2f940ddb09a4",
  "content_language": "de",
  "content_title": "Testprojekt: Verkehrsaufkommen",
  "content_type": "exercise",
  "kernelspec": {
   "display_name": "Python 3 (ipykernel)",
   "language": "python",
   "name": "python3"
  },
  "language_info": {
   "codemirror_mode": {
    "name": "ipython",
    "version": 3
   },
   "file_extension": ".py",
   "mimetype": "text/x-python",
   "name": "python",
   "nbconvert_exporter": "python",
   "pygments_lexer": "ipython3",
   "version": "3.8.10"
  }
 },
 "nbformat": 4,
 "nbformat_minor": 4
}
